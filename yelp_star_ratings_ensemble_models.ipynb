{
 "cells": [
  {
   "cell_type": "markdown",
   "metadata": {},
   "source": [
    "# Programming Custom Transformers, Pipelines, and Ensemble Models to Predict Venue Ratings from the Yelp Academic Dataset\n",
    "\n",
    "<span id='back-up'>The Yelp academic dataset </span> (included in this repository) consists of about 38,000 business listings and their relevant information. Each listing includes 15 properties, e.g. `business_id`, `full_address`, `hours`, `categories`, etc ([Click here to see all of a listing's properties (anchors don't work in Github)](#listing)).\n",
    "\n",
    "The **goal of this project** is to demonstrate the use of custom transformer classes, chaining custom tranformers/estimators into pipelines for composite estimators, and using feature unions to develop an ensemble model for venues' ratings prediction.\n",
    "\n",
    "Although I will optimize my models using cross-validation, the goal of the project is *not to develop the best* model to predict star ratings based on the features in the dataset. This dataset doesn't include actual user reviews. A much more accurate predictive model would likely require natural language processing (NLP) of the costumer review data. With that caveat, let's dive into the data.\n",
    "\n",
    "-------------"
   ]
  },
  {
   "cell_type": "markdown",
   "metadata": {},
   "source": [
    "### Libraries Used\n",
    "\n",
    "I will be using the most common python libaries for machine learning and data analysis, namely the numpy, pandas and scikit-learn libraries. I'll be using sci-kit learn's linear and non-linear regressors for modeling the data. As most of the data is not in the correct format (sci-kit learn requires numpy arrays or pandas dataframes as inputs) I'll write custom transformers to modify the original data structure for it."
   ]
  },
  {
   "cell_type": "code",
   "execution_count": 1,
   "metadata": {},
   "outputs": [],
   "source": [
    "%matplotlib inline\n",
    "import matplotlib.pyplot as plt\n",
    "import dill\n",
    "import pandas as pd\n",
    "import numpy as np\n",
    "import random as rd\n",
    "from sklearn import base\n",
    "from sklearn.model_selection import train_test_split\n",
    "from sklearn.model_selection import GridSearchCV\n",
    "from sklearn.feature_extraction import DictVectorizer\n",
    "from sklearn.neighbors import KNeighborsRegressor\n",
    "from sklearn.linear_model import Ridge\n",
    "from sklearn.linear_model import LinearRegression\n",
    "from sklearn.ensemble import RandomForestRegressor\n",
    "from sklearn.pipeline import Pipeline\n",
    "from sklearn.pipeline import FeatureUnion\n",
    "from sklearn.metrics import mean_squared_error\n",
    "from sklearn.metrics import mean_absolute_error"
   ]
  },
  {
   "cell_type": "markdown",
   "metadata": {},
   "source": [
    "### Importing and Exploring the Data"
   ]
  },
  {
   "cell_type": "code",
   "execution_count": 2,
   "metadata": {},
   "outputs": [],
   "source": [
    "import ujson as json\n",
    "import gzip\n",
    "\n",
    "with gzip.open('yelp_train_academic_dataset_business.json.gz') as f:\n",
    "    data = [json.loads(line) for line in f]"
   ]
  },
  {
   "cell_type": "markdown",
   "metadata": {},
   "source": [
    "<span id='listing'> I always find it nice to see how the data is structured. `data` is a a list of businesses (~38,000). I have just printed the first listed buisness to see all of it's associated metadata ([back to the introduction](#back-up)). </span>"
   ]
  },
  {
   "cell_type": "code",
   "execution_count": 3,
   "metadata": {},
   "outputs": [
    {
     "name": "stdout",
     "output_type": "stream",
     "text": [
      "business_id : vcNAWiLM4dR7D2nwwJ7nCA\n",
      "full_address : 4840 E Indian School Rd\n",
      "Ste 101\n",
      "Phoenix, AZ 85018\n",
      "hours : {'Tuesday': {'close': '17:00', 'open': '08:00'}, 'Friday': {'close': '17:00', 'open': '08:00'}, 'Monday': {'close': '17:00', 'open': '08:00'}, 'Wednesday': {'close': '17:00', 'open': '08:00'}, 'Thursday': {'close': '17:00', 'open': '08:00'}}\n",
      "open : True\n",
      "categories : ['Doctors', 'Health & Medical']\n",
      "city : Phoenix\n",
      "review_count : 7\n",
      "name : Eric Goldberg, MD\n",
      "neighborhoods : []\n",
      "longitude : -111.983758\n",
      "state : AZ\n",
      "stars : 3.5\n",
      "latitude : 33.499313\n",
      "attributes : {'By Appointment Only': True}\n",
      "type : business\n"
     ]
    }
   ],
   "source": [
    "for i in data[0]:\n",
    "    print (i,':', data[0][i])"
   ]
  },
  {
   "cell_type": "markdown",
   "metadata": {},
   "source": [
    "Keeping the labels separate from the features and splitting the dataset into a training and test dataset."
   ]
  },
  {
   "cell_type": "code",
   "execution_count": 4,
   "metadata": {},
   "outputs": [],
   "source": [
    "star_ratings = [business['stars'] for business in data]"
   ]
  },
  {
   "cell_type": "code",
   "execution_count": 5,
   "metadata": {},
   "outputs": [
    {
     "data": {
      "text/plain": [
       "3.6729137013021247"
      ]
     },
     "execution_count": 5,
     "metadata": {},
     "output_type": "execute_result"
    }
   ],
   "source": [
    "np.array(star_ratings).mean()"
   ]
  },
  {
   "cell_type": "code",
   "execution_count": 6,
   "metadata": {},
   "outputs": [],
   "source": [
    "# from sklearn.model_selection\n",
    "xtrain, xtest, ytrain, ytest = train_test_split(data, star_ratings, \n",
    "                                                train_size=0.8, \n",
    "                                                random_state=100)\n"
   ]
  },
  {
   "cell_type": "markdown",
   "metadata": {},
   "source": [
    "### Building a City-based Predictive Model\n",
    "\n",
    "This first estimator takes all the cities in the dataset, calculates the average, and then predicts that average for any venue in a city.\n",
    "\n",
    "As a a model, it is quite crude, but in some cases where customers in some cities may rate higher than other cities, it would make for a baseline predictor, especially when combined with category data.\n",
    "\n",
    "I added a default rating of 3.67 (dataset mean) if the city doesn't exist in the dataset."
   ]
  },
  {
   "cell_type": "code",
   "execution_count": 7,
   "metadata": {},
   "outputs": [],
   "source": [
    "class CityEstimator(base.BaseEstimator, base.RegressorMixin):\n",
    "\n",
    "    def fit(self, X, y):\n",
    "        \n",
    "        # X is input list of rows. y is corresponding star ratings\n",
    "        city = [business['city'] for business in X]\n",
    "        \n",
    "        # using dataframes for grouped means\n",
    "        city_stars = pd.DataFrame({'city': city,\n",
    "                                   'star_ratings': y})\n",
    "        city_avg = city_stars.groupby(['city'], as_index=False).mean()\n",
    "        \n",
    "        # going back to the dictionary as easier to add missing data during predict\n",
    "        agg_city = city_avg['city'].to_list()\n",
    "        agg_stars = city_avg['star_ratings'].to_list()\n",
    "\n",
    "        self.city_agg = {i:j for i,j in zip(agg_city, agg_stars)}\n",
    "   \n",
    "        return self\n",
    "\n",
    "    def predict(self, X):\n",
    "        \n",
    "        predX = [business['city'] for business in X]\n",
    "        predY = []\n",
    "        for i in predX:\n",
    "            if i in self.city_agg:\n",
    "                predY.append(self.city_agg[i])\n",
    "            else:\n",
    "                predY.append(3.67) # if city is not in dataset, if just guesses 2.5\n",
    "        return predY\n"
   ]
  },
  {
   "cell_type": "markdown",
   "metadata": {},
   "source": [
    "I'll be using the mean squared error and the mean absolute error as my scoring metric. The former is the sum of the squared difference, whereas the latter is the sum of the absolute difference between actual `y` and predicted `y` "
   ]
  },
  {
   "cell_type": "code",
   "execution_count": 8,
   "metadata": {},
   "outputs": [],
   "source": [
    "def pred_score(model, xdata, ydata):\n",
    "    pred = model.predict(xdata)\n",
    "    score = []\n",
    "    score.append(mean_squared_error(ydata, pred))\n",
    "    score.append(mean_absolute_error(ydata,pred))\n",
    "    return pred, score"
   ]
  },
  {
   "cell_type": "code",
   "execution_count": 9,
   "metadata": {},
   "outputs": [
    {
     "data": {
      "text/plain": [
       "CityEstimator()"
      ]
     },
     "execution_count": 9,
     "metadata": {},
     "output_type": "execute_result"
    }
   ],
   "source": [
    "# Initializing Model\n",
    "city_est = CityEstimator()\n",
    "city_est.fit(xtrain, ytrain)"
   ]
  },
  {
   "cell_type": "code",
   "execution_count": 10,
   "metadata": {},
   "outputs": [
    {
     "name": "stdout",
     "output_type": "stream",
     "text": [
      "[0.808324517360051, 0.7179545880960081]\n"
     ]
    }
   ],
   "source": [
    "# Testing with original data\n",
    "city_test_pred, city_score = pred_score(city_est, xtest, ytest)\n",
    "print(city_score)"
   ]
  },
  {
   "cell_type": "markdown",
   "metadata": {},
   "source": [
    "At first glance the MSE of 0.81 and MAE of 0.72 looks low. But if we plot our data, we'll see that our data is centered at 3.67. a MAE of 0.72 suggests the average prediction could range from 2.95 to  4.39, a fairly bigger when it comes to user ratings.\n",
    "\n",
    "Let's plot some subset of the data to visualize our predictions."
   ]
  },
  {
   "cell_type": "code",
   "execution_count": 11,
   "metadata": {},
   "outputs": [
    {
     "data": {
      "text/plain": [
       "[<matplotlib.lines.Line2D at 0x7f46633dbb50>]"
      ]
     },
     "execution_count": 11,
     "metadata": {},
     "output_type": "execute_result"
    },
    {
     "data": {
      "image/png": "[encoded data removed]",
      "text/plain": [
       "<Figure size 864x432 with 1 Axes>"
      ]
     },
     "metadata": {
      "needs_background": "light"
     },
     "output_type": "display_data"
    }
   ],
   "source": [
    "city_venue = list(range(0,len(xtest)))\n",
    "plt.figure(figsize=(12,6))\n",
    "w = 100 # shift window to plot\n",
    "plt.plot(city_venue[w+0:w+100], ytest[w+0:w+100], 'r.' ,label='Actual')\n",
    "plt.plot(city_venue[w+0:w+100], city_test_pred[w+0:w+100], 'bo' ,label='Pred')"
   ]
  },
  {
   "cell_type": "markdown",
   "metadata": {},
   "source": [
    "We can see that the model does a really poor job of predicting most venues."
   ]
  },
  {
   "cell_type": "code",
   "execution_count": 12,
   "metadata": {},
   "outputs": [
    {
     "data": {
      "text/plain": [
       "(array([ 102.,  146.,  284.,  620., 1050., 1697., 1667., 2022.]),\n",
       " array([1. , 1.5, 2. , 2.5, 3. , 3.5, 4. , 4.5, 5. ]),\n",
       " <a list of 8 Patch objects>)"
      ]
     },
     "execution_count": 12,
     "metadata": {},
     "output_type": "execute_result"
    },
    {
     "data": {
      "image/png": "[encoded data removed]",
      "text/plain": [
       "<Figure size 432x288 with 1 Axes>"
      ]
     },
     "metadata": {
      "needs_background": "light"
     },
     "output_type": "display_data"
    }
   ],
   "source": [
    "plt.hist(ytest, bins=8, range=(1,5), edgecolor='b')"
   ]
  },
  {
   "cell_type": "markdown",
   "metadata": {},
   "source": [
    "### Column Select Transformer \n",
    "\n",
    "If I want to use particular features as input for a model, I have to make sure it is shaped as a numpy array for sci-kit learn's regressors. The format of a numpy array is `[[$a_{1}$,$b_{1}$], [$a_{2}$,$b_{2}$], ...]"
   ]
  },
  {
   "cell_type": "code",
   "execution_count": 13,
   "metadata": {},
   "outputs": [],
   "source": [
    "class ColumnSelectTransformer(base.BaseEstimator, base.TransformerMixin):\n",
    "\n",
    "    def __init__(self, col_names):\n",
    "        self.col_names = col_names\n",
    "\n",
    "    def fit(self, X, y=None):\n",
    "        # This transformer doesn't need to learn anything about the data,\n",
    "        # so it can just return self without any further processing\n",
    "        return self\n",
    "\n",
    "    def transform(self, X):\n",
    "        tx_undata = [] #not formatted so UNformatted DATA\n",
    "        for i in self.col_names:\n",
    "            tx_undata.append([row[i] for row in X])\n",
    "\n",
    "        len_col = len(tx_undata)\n",
    "\n",
    "        tx_data = []\n",
    "        for i in tx_undata[0]:\n",
    "            tx_data.append([i])\n",
    "        for i in range(1, len(self.col_names)):\n",
    "            for j in range(len(tx_data)):\n",
    "                tx_data[j].append(tx_undata[i][j])\n",
    "\n",
    "        # Return an array with the same number of rows as X and one\n",
    "        # column for each in self.col_names\n",
    "        return tx_data\n"
   ]
  },
  {
   "cell_type": "markdown",
   "metadata": {},
   "source": [
    "Testing that our column transformer takes in a list of columns, and then outputs that in a numpy array-like list."
   ]
  },
  {
   "cell_type": "code",
   "execution_count": 14,
   "metadata": {},
   "outputs": [
    {
     "name": "stdout",
     "output_type": "stream",
     "text": [
      "[[33.499313, -111.983758], [43.238893, -89.335844], [43.252267, -89.353437], [43.251045, -89.374983], [43.2408748, -89.3437217]]\n",
      "True\n"
     ]
    }
   ],
   "source": [
    "col_in = ['latitude', 'longitude']\n",
    "cst = ColumnSelectTransformer(col_in)\n",
    "data_subset = data[0:5]\n",
    "cst2 = cst.fit_transform(data_subset)\n",
    "cst3 = [[i['latitude'], i['longitude']] for i in data_subset]\n",
    "print(cst2)\n",
    "print(cst2 == cst3)"
   ]
  },
  {
   "cell_type": "markdown",
   "metadata": {},
   "source": [
    "I'll use `pipeline` from the sklearn.pipeline library to sequentially apply my column transformer, and then pass that data to a regressor. In this case I will be using a k-nearest neighbors regressor, which averages the value of the k nearest neighbors (Euclidean distance) to predict the value for input (lat, long)."
   ]
  },
  {
   "cell_type": "code",
   "execution_count": 15,
   "metadata": {},
   "outputs": [],
   "source": [
    "col_in = ['latitude', 'longitude']\n",
    "\n",
    "pipe = Pipeline([('columntx', ColumnSelectTransformer(col_in)),\n",
    "                 ('knear', KNeighborsRegressor(n_jobs=-1))])\n"
   ]
  },
  {
   "cell_type": "markdown",
   "metadata": {},
   "source": [
    "I'm using the exhaustive `GridSearchCV` function from the scikit library to optimize the `n_neighbors` and `weights` of each neighbor in the knn algorithm. Note that to pipe the parameter grid, I have to append the estimator name (that I can name arbitrarily) as `name__`. In this particular case, it is `knear__`. "
   ]
  },
  {
   "cell_type": "code",
   "execution_count": null,
   "metadata": {},
   "outputs": [],
   "source": [
    "kparams = { 'knear__n_neighbors': [90, 100, 110, 120, 200],\n",
    "            'knear__weights': ['uniform', 'distance']}\n",
    "\n",
    "cn = GridSearchCV(pipe, kparams, cv=5, scoring='neg_mean_squared_error')\n",
    "cn.fit(xtrain, ytrain)"
   ]
  },
  {
   "cell_type": "code",
   "execution_count": null,
   "metadata": {},
   "outputs": [],
   "source": [
    "cn.best_params_"
   ]
  },
  {
   "cell_type": "code",
   "execution_count": 16,
   "metadata": {},
   "outputs": [
    {
     "data": {
      "text/plain": [
       "Pipeline(memory=None,\n",
       "         steps=[('columntx',\n",
       "                 ColumnSelectTransformer(col_names=['latitude', 'longitude'])),\n",
       "                ('knear',\n",
       "                 KNeighborsRegressor(algorithm='auto', leaf_size=30,\n",
       "                                     metric='minkowski', metric_params=None,\n",
       "                                     n_jobs=-1, n_neighbors=100, p=2,\n",
       "                                     weights='uniform'))],\n",
       "         verbose=False)"
      ]
     },
     "execution_count": 16,
     "metadata": {},
     "output_type": "execute_result"
    }
   ],
   "source": [
    "pipe = Pipeline([('columntx', ColumnSelectTransformer(col_in)),\n",
    "                 ('knear', KNeighborsRegressor(n_neighbors=100, n_jobs=-1))])\n",
    "pipe.fit(xtrain, ytrain)"
   ]
  },
  {
   "cell_type": "code",
   "execution_count": 17,
   "metadata": {},
   "outputs": [
    {
     "name": "stdout",
     "output_type": "stream",
     "text": [
      "[0.7994039536109647, 0.7094517659462309]\n"
     ]
    }
   ],
   "source": [
    "print(pred_score(pipe,xtest, ytest)[1])"
   ]
  },
  {
   "cell_type": "markdown",
   "metadata": {},
   "source": [
    "The latitude and longitude model barely improves our predictions."
   ]
  },
  {
   "cell_type": "markdown",
   "metadata": {},
   "source": [
    "## Category Model\n",
    "\n",
    "Now I'll build a model based on the `categories` data. The data looks like like the following:"
   ]
  },
  {
   "cell_type": "code",
   "execution_count": 18,
   "metadata": {},
   "outputs": [
    {
     "name": "stdout",
     "output_type": "stream",
     "text": [
      "['Food', 'Coffee & Tea']\n",
      "['Local Services', 'Sewing & Alterations', 'Shoe Repair', 'Watch Repair']\n",
      "['Diners', 'Restaurants']\n"
     ]
    }
   ],
   "source": [
    "# Examples\n",
    "\n",
    "print(data[rd.randrange(0,len(data))]['categories'])\n",
    "print(data[rd.randrange(0,len(data))]['categories'])\n",
    "print(data[rd.randrange(0,len(data))]['categories'])"
   ]
  },
  {
   "cell_type": "markdown",
   "metadata": {},
   "source": [
    "I'm making a `DictEncoder` function which takes in our category column and reformats it into a format that can be used with the standark sci-kit library. Each category will become a key with a value of 1 for each venue. We'll use the scikit-learn `DictVectorizer` function to convert the categorical input (the general term) into numerical features via *one-hot encoding*, converting each category into a seperate feature (column). If you look at the print statement below, you'll notice the data is represented as a sparse matrix, to save memory (as most features will be zero for most venues)."
   ]
  },
  {
   "cell_type": "code",
   "execution_count": 19,
   "metadata": {},
   "outputs": [],
   "source": [
    "class DictEncoder(base.BaseEstimator, base.TransformerMixin):\n",
    "\n",
    "    def fit(self, X, y=None):\n",
    "        return self\n",
    "\n",
    "    def transform(self, X):\n",
    "        ct_dt = []\n",
    "        # the extra loop is because this is a list nested in a list nested in a list\n",
    "        for i in X:\n",
    "            for j in i:\n",
    "                ct_dt.append({})\n",
    "                for k in j:\n",
    "                    ct_dt[-1][k] = 1\n",
    "\n",
    "        return ct_dt"
   ]
  },
  {
   "cell_type": "code",
   "execution_count": 20,
   "metadata": {},
   "outputs": [
    {
     "name": "stdout",
     "output_type": "stream",
     "text": [
      "[['Doctors', 'Health & Medical']]\n",
      "[['Restaurants']]\n",
      "[['American (Traditional)', 'Restaurants']]\n",
      "[['Food', 'Ice Cream & Frozen Yogurt', 'Fast Food', 'Restaurants']]\n",
      "[['Chinese', 'Restaurants']]\n",
      "\n",
      "\n",
      "{'Doctors': 1, 'Health & Medical': 1}\n",
      "{'Restaurants': 1}\n",
      "{'American (Traditional)': 1, 'Restaurants': 1}\n",
      "{'Food': 1, 'Ice Cream & Frozen Yogurt': 1, 'Fast Food': 1, 'Restaurants': 1}\n",
      "{'Chinese': 1, 'Restaurants': 1}\n",
      "  (0, 2)\t1.0\n",
      "  (0, 5)\t1.0\n",
      "  (0, 7)\t1.0\n",
      "  (0, 0)\t1.0\n",
      "  (0, 7)\t1.0\n",
      "  (0, 3)\t1.0\n",
      "  (0, 4)\t1.0\n",
      "  (0, 6)\t1.0\n",
      "  (0, 7)\t1.0\n",
      "  (0, 1)\t1.0\n",
      "  (0, 7)\t1.0\n"
     ]
    }
   ],
   "source": [
    "col_in = ['categories']\n",
    "cst = ColumnSelectTransformer(col_in).fit_transform(data_subset)\n",
    "for i in cst:\n",
    "    print(i)\n",
    "print('\\n')\n",
    "\n",
    "cst2 = DictEncoder().fit_transform(cst)\n",
    "for i in cst2:\n",
    "    print(i)\n",
    "\n",
    "cst3 = DictVectorizer().fit_transform(cst2)\n",
    "for i in cst3:\n",
    "    print(i)\n"
   ]
  },
  {
   "cell_type": "markdown",
   "metadata": {},
   "source": [
    "We make a pipe with all our transformers, and this time I used a linear regressor (probably not the best approach) as an estimator. I used cross-validation to find the optimum alpha (the hyperparmater)."
   ]
  },
  {
   "cell_type": "code",
   "execution_count": null,
   "metadata": {},
   "outputs": [],
   "source": [
    "col_in = ['categories']\n",
    "pipe2 = Pipeline([('columntx', ColumnSelectTransformer(col_in)),\n",
    "                  ('dict_enc', DictEncoder()),\n",
    "                  ('dict_vec', DictVectorizer()),\n",
    "                  ('ridge', Ridge())])\n",
    "\n",
    "kparams = { 'ridge__alpha': [3.0, 3.5, 4.0, 5.0, 6.0, 7.0, 10.0]}\n",
    "\n",
    "catn = GridSearchCV(pipe2, kparams, cv=5, scoring='neg_mean_squared_error')\n",
    "catn.fit(xtrain, ytrain)\n",
    "catn.best_params_"
   ]
  },
  {
   "cell_type": "code",
   "execution_count": 21,
   "metadata": {},
   "outputs": [
    {
     "data": {
      "text/plain": [
       "Pipeline(memory=None,\n",
       "         steps=[('column tx',\n",
       "                 ColumnSelectTransformer(col_names=['categories'])),\n",
       "                ('dict fixer', DictEncoder()),\n",
       "                ('dict vector',\n",
       "                 DictVectorizer(dtype=<class 'numpy.float64'>, separator='=',\n",
       "                                sort=True, sparse=True)),\n",
       "                ('ridge model',\n",
       "                 Ridge(alpha=7.0, copy_X=True, fit_intercept=True,\n",
       "                       max_iter=None, normalize=False, random_state=None,\n",
       "                       solver='auto', tol=0.001))],\n",
       "         verbose=False)"
      ]
     },
     "execution_count": 21,
     "metadata": {},
     "output_type": "execute_result"
    }
   ],
   "source": [
    "col_in = ['categories']\n",
    "pipe2 = Pipeline([('column tx', ColumnSelectTransformer(col_in)),\n",
    "                  ('dict fixer', DictEncoder()),\n",
    "                  ('dict vector', DictVectorizer()),\n",
    "                  ('ridge model', Ridge(alpha=7.0))])\n",
    "\n",
    "pipe2.fit(xtrain, ytrain)"
   ]
  },
  {
   "cell_type": "code",
   "execution_count": 22,
   "metadata": {},
   "outputs": [
    {
     "name": "stdout",
     "output_type": "stream",
     "text": [
      "[0.6695331404441529, 0.6356787689205778]\n"
     ]
    }
   ],
   "source": [
    "print(pred_score(pipe2, xtest, ytest)[1])"
   ]
  },
  {
   "cell_type": "markdown",
   "metadata": {},
   "source": [
    "The category model seems to improve our prediction by about ~17% over our previous models."
   ]
  },
  {
   "cell_type": "markdown",
   "metadata": {},
   "source": [
    "## Attribute Model\n",
    "\n",
    "Similar to the category model above, I'll use the attributes of each venue to generate my prediction. The custom transformer `DictAttEncoder` is converting the original input into a dictionary that can be used by `DictVectorizer` to feed into our scikit-learn estimator. In this case, I used a random forest model. Once again, I used cross validation to optimize the hyperparamters for my model.\n"
   ]
  },
  {
   "cell_type": "code",
   "execution_count": 23,
   "metadata": {},
   "outputs": [],
   "source": [
    "class DictAttEncoder(base.BaseEstimator, base.TransformerMixin):\n",
    "\n",
    "    def fit(self, X, y=None):\n",
    "        return self\n",
    "\n",
    "    def transform(self, X):\n",
    "        #self.at_lt = X   # attribute list\n",
    "        at_dt = []  # attribute flat dictionary\n",
    "        for i in X:\n",
    "            for j in i:\n",
    "                at_dt.append({})\n",
    "                for k, l in j.items():\n",
    "                    if not type(l) is dict:\n",
    "                        if l == False:\n",
    "                            at_dt[-1][k] = 0\n",
    "                        elif l == True:\n",
    "                            at_dt[-1][k] = 1\n",
    "                        else:\n",
    "                            at_dt[-1]['{}_{}'.format(k, l)] = 1\n",
    "                    if type(l) is dict:\n",
    "                        for m, n in l.items():\n",
    "                            if n == False:\n",
    "                                at_dt[-1]['{}_{}'.format(k, m)] = 0\n",
    "                            elif n == True:\n",
    "                                at_dt[-1]['{}_{}'.format(k, m)] = 1\n",
    "\n",
    "        return at_dt"
   ]
  },
  {
   "cell_type": "code",
   "execution_count": 24,
   "metadata": {},
   "outputs": [
    {
     "name": "stdout",
     "output_type": "stream",
     "text": [
      "[{'By Appointment Only': True}]\n",
      "[{'Take-out': True, 'Good For': {'dessert': False, 'latenight': False, 'lunch': True, 'dinner': False, 'breakfast': False, 'brunch': False}, 'Caters': False, 'Noise Level': 'average', 'Takes Reservations': False, 'Delivery': False, 'Ambience': {'romantic': False, 'intimate': False, 'touristy': False, 'hipster': False, 'divey': False, 'classy': False, 'trendy': False, 'upscale': False, 'casual': False}, 'Parking': {'garage': False, 'street': False, 'validated': False, 'lot': True, 'valet': False}, 'Has TV': True, 'Outdoor Seating': False, 'Attire': 'casual', 'Alcohol': 'none', 'Waiter Service': True, 'Accepts Credit Cards': True, 'Good for Kids': True, 'Good For Groups': True, 'Price Range': 1}]\n",
      "[{'Take-out': True, 'Good For': {'dessert': False, 'latenight': False, 'lunch': False, 'dinner': False, 'breakfast': False, 'brunch': True}, 'Caters': False, 'Noise Level': 'quiet', 'Takes Reservations': False, 'Delivery': False, 'Parking': {'garage': False, 'street': False, 'validated': False, 'lot': True, 'valet': False}, 'Has TV': True, 'Outdoor Seating': False, 'Attire': 'casual', 'Ambience': {'romantic': False, 'intimate': False, 'touristy': False, 'hipster': False, 'divey': False, 'classy': False, 'trendy': False, 'upscale': False, 'casual': True}, 'Waiter Service': True, 'Accepts Credit Cards': True, 'Good for Kids': True, 'Good For Groups': True, 'Price Range': 1}]\n",
      "[{'Take-out': True, 'Wi-Fi': 'free', 'Takes Reservations': False, 'Delivery': False, 'Parking': {'garage': False, 'street': False, 'validated': False, 'lot': True, 'valet': False}, 'Wheelchair Accessible': True, 'Attire': 'casual', 'Accepts Credit Cards': True, 'Good For Groups': True, 'Price Range': 1}]\n",
      "[{'Take-out': True, 'Has TV': False, 'Outdoor Seating': False, 'Attire': 'casual'}]\n",
      "\n",
      "\n",
      "{'By Appointment Only': 1}\n",
      "{'Take-out': 1, 'Good For_dessert': 0, 'Good For_latenight': 0, 'Good For_lunch': 1, 'Good For_dinner': 0, 'Good For_breakfast': 0, 'Good For_brunch': 0, 'Caters': 0, 'Noise Level_average': 1, 'Takes Reservations': 0, 'Delivery': 0, 'Ambience_romantic': 0, 'Ambience_intimate': 0, 'Ambience_touristy': 0, 'Ambience_hipster': 0, 'Ambience_divey': 0, 'Ambience_classy': 0, 'Ambience_trendy': 0, 'Ambience_upscale': 0, 'Ambience_casual': 0, 'Parking_garage': 0, 'Parking_street': 0, 'Parking_validated': 0, 'Parking_lot': 1, 'Parking_valet': 0, 'Has TV': 1, 'Outdoor Seating': 0, 'Attire_casual': 1, 'Alcohol_none': 1, 'Waiter Service': 1, 'Accepts Credit Cards': 1, 'Good for Kids': 1, 'Good For Groups': 1, 'Price Range': 1}\n",
      "{'Take-out': 1, 'Good For_dessert': 0, 'Good For_latenight': 0, 'Good For_lunch': 0, 'Good For_dinner': 0, 'Good For_breakfast': 0, 'Good For_brunch': 1, 'Caters': 0, 'Noise Level_quiet': 1, 'Takes Reservations': 0, 'Delivery': 0, 'Parking_garage': 0, 'Parking_street': 0, 'Parking_validated': 0, 'Parking_lot': 1, 'Parking_valet': 0, 'Has TV': 1, 'Outdoor Seating': 0, 'Attire_casual': 1, 'Ambience_romantic': 0, 'Ambience_intimate': 0, 'Ambience_touristy': 0, 'Ambience_hipster': 0, 'Ambience_divey': 0, 'Ambience_classy': 0, 'Ambience_trendy': 0, 'Ambience_upscale': 0, 'Ambience_casual': 1, 'Waiter Service': 1, 'Accepts Credit Cards': 1, 'Good for Kids': 1, 'Good For Groups': 1, 'Price Range': 1}\n",
      "{'Take-out': 1, 'Wi-Fi_free': 1, 'Takes Reservations': 0, 'Delivery': 0, 'Parking_garage': 0, 'Parking_street': 0, 'Parking_validated': 0, 'Parking_lot': 1, 'Parking_valet': 0, 'Wheelchair Accessible': 1, 'Attire_casual': 1, 'Accepts Credit Cards': 1, 'Good For Groups': 1, 'Price Range': 1}\n",
      "{'Take-out': 1, 'Has TV': 0, 'Outdoor Seating': 0, 'Attire_casual': 1}\n"
     ]
    }
   ],
   "source": [
    "col_in = ['attributes']\n",
    "cst = ColumnSelectTransformer(col_in).fit_transform(data_subset)\n",
    "for i in cst:\n",
    "    print(i)\n",
    "print('\\n')\n",
    "\n",
    "cst2 = DictAttEncoder().fit_transform(cst)\n",
    "for i in cst2:\n",
    "    print(i)\n"
   ]
  },
  {
   "cell_type": "code",
   "execution_count": null,
   "metadata": {},
   "outputs": [],
   "source": [
    "col_in = ['attributes']\n",
    "pipe3 = Pipeline([('columntx', ColumnSelectTransformer(col_in)),\n",
    "                  ('dict_fix', DictAttEncoder()),\n",
    "                  ('dict_vec', DictVectorizer()),\n",
    "                 ('forest', RandomForestRegressor(n_jobs=-1))])\n",
    "\n",
    "kparams = { 'forest__n_estimators': [200, 300, 400],\n",
    "            'forest__max_depth': [10, 25, 40],\n",
    "            'forest__min_samples_split': [2, 10, 25, 50]}\n",
    "\n",
    "fn = GridSearchCV(pipe3, kparams, cv=5, scoring='neg_mean_squared_error')\n",
    "fn.fit(xtrain, ytrain)\n",
    "fn.best_params_\n",
    "\n"
   ]
  },
  {
   "cell_type": "code",
   "execution_count": 25,
   "metadata": {},
   "outputs": [
    {
     "name": "stdout",
     "output_type": "stream",
     "text": [
      "[0.7349957500528327, 0.673658764501434]\n"
     ]
    }
   ],
   "source": [
    "col_in = ['attributes']\n",
    "pipe3 = Pipeline([('column tx', ColumnSelectTransformer(col_in)),\n",
    "                  ('dict fixer', DictAttEncoder()),\n",
    "                  ('dict vector', DictVectorizer()),\n",
    "                 ('forest model', RandomForestRegressor(n_jobs=-1, max_depth=40,\n",
    "                                                        n_estimators=300,\n",
    "                                                        min_samples_split=50))])\n",
    "\n",
    "pipe3.fit(xtrain, ytrain)\n",
    "\n",
    "print(pred_score(pipe3, xtest, ytest)[1])"
   ]
  },
  {
   "cell_type": "markdown",
   "metadata": {},
   "source": [
    "## Residual Estimator\n",
    "\n",
    "A single regressor doesn't really do a good job here. Here I took the residual of my first estimator, and then estimated that again. Typically a linear model is used to fit the linear part of some data, and use a non-linear model to fit the residual that the linear model can't fit. However, in this case, the non-linear model worked better in both cases."
   ]
  },
  {
   "cell_type": "code",
   "execution_count": 26,
   "metadata": {},
   "outputs": [],
   "source": [
    "class DataAndResidualRegressor(base.BaseEstimator, base.TransformerMixin):\n",
    "\n",
    "    def fit(self, X, y):\n",
    "        self.data = X\n",
    "        self.y_act = y\n",
    "\n",
    "        self.data_model1 = RandomForestRegressor(n_jobs=-1, max_depth=40,\n",
    "                                                        n_estimators=300,\n",
    "                                                        min_samples_split=50)\n",
    "        #self.data_model2 = Ridge(alpha=3.0)\n",
    "        self.data_model2 = RandomForestRegressor(n_jobs=-1, max_depth=40,\n",
    "                                                        n_estimators=300,\n",
    "                                                        min_samples_split=50)\n",
    "\n",
    "        self.data_model1.fit(self.data, self.y_act)\n",
    "        self.y_est = self.data_model1.predict(self.data)\n",
    "        self.y_res = self.y_act - self.y_est\n",
    "\n",
    "        self.data_model2.fit(self.data, self.y_res)\n",
    "\n",
    "        return self\n",
    "\n",
    "    def predict(self, X):\n",
    "        y_predict = self.data_model1.predict(X) + self.data_model2.predict(X)\n",
    "\n",
    "        return y_predict\n"
   ]
  },
  {
   "cell_type": "code",
   "execution_count": 27,
   "metadata": {},
   "outputs": [
    {
     "name": "stdout",
     "output_type": "stream",
     "text": [
      "[0.7353600445263452, 0.6732220126103124]\n"
     ]
    }
   ],
   "source": [
    "col_in = ['attributes']\n",
    "pipe4 = Pipeline([('column tx', ColumnSelectTransformer(col_in)),\n",
    "                  ('dict fixer', DictAttEncoder()),\n",
    "                  ('dict vector', DictVectorizer()),\n",
    "                  ('data res model', DataAndResidualRegressor())])\n",
    "\n",
    "pipe4.fit(xtrain, ytrain)\n",
    "print(pred_score(pipe4, xtest, ytest)[1])"
   ]
  },
  {
   "cell_type": "markdown",
   "metadata": {},
   "source": [
    "## Custom Estimator Transformer\n",
    "\n",
    "So far I have only built a model based on individual features.  Now I'll build an ensemble regressor that averages together the estimates of the four previous regressors.\n",
    "\n",
    "Unfortunately, a pipeline can only container one estimator (at most). So we'll take our old models, fit our data, and then use that output as features for our ensemble estimator. In order to do this, we'll transform our models into tranformers (again by making a custom class).\n",
    "\n",
    "`EstimatorTransformer` will take an estimator as an argument.  When `fit()` is called, the estimator will be fit.  When `transform()` is called, the estimator's `predict()` method will be called, and its results returned. The output of the `transform()` will be our predicted values from each model, so it will be a single column."
   ]
  },
  {
   "cell_type": "code",
   "execution_count": 28,
   "metadata": {},
   "outputs": [],
   "source": [
    "class EstimatorTransformer(base.BaseEstimator, base.TransformerMixin):\n",
    "\n",
    "    def __init__(self, estimator):\n",
    "        self.estimator = estimator\n",
    "        #return self\n",
    "\n",
    "    def fit(self, X, y):\n",
    "        self.estimator.fit(X,y)\n",
    "        return self\n",
    "\n",
    "    def transform(self, X):\n",
    "        self.y_est = self.estimator.predict(X)\n",
    "        self.y_out = [[i] for i in self.y_est]\n",
    "\n",
    "        return self.y_out"
   ]
  },
  {
   "cell_type": "markdown",
   "metadata": {},
   "source": [
    "Just testing my estimator transformer on one of the models:"
   ]
  },
  {
   "cell_type": "code",
   "execution_count": 29,
   "metadata": {},
   "outputs": [],
   "source": [
    "\n",
    "city_est = CityEstimator()\n",
    "city_trans = EstimatorTransformer(city_est)\n",
    "\n",
    "city_trans.fit(data, star_ratings)\n",
    "\n",
    "assert ([r[0] for r in city_trans.transform(data[:5])]\n",
    "        == city_est.predict(data[:5]))\n"
   ]
  },
  {
   "cell_type": "markdown",
   "metadata": {},
   "source": [
    "Putting all the models together and making a union of the features (using the `FeatureUnion` function from scikit-learn library)"
   ]
  },
  {
   "cell_type": "code",
   "execution_count": 32,
   "metadata": {},
   "outputs": [],
   "source": [
    "\n",
    "city_trans = EstimatorTransformer(city_est)\n",
    "latlong_trans = EstimatorTransformer(pipe)\n",
    "cat_trans = EstimatorTransformer(pipe2)\n",
    "att_trans = EstimatorTransformer(pipe4)\n",
    "\n",
    "\n",
    "union = FeatureUnion([('city est', city_trans),\n",
    "                      ('lat long', latlong_trans),\n",
    "                      ('cat mod', cat_trans),\n",
    "                      ('att mod', att_trans)])"
   ]
  },
  {
   "cell_type": "code",
   "execution_count": 33,
   "metadata": {},
   "outputs": [
    {
     "data": {
      "text/plain": [
       "Pipeline(memory=None,\n",
       "         steps=[('columns all',\n",
       "                 FeatureUnion(n_jobs=None,\n",
       "                              transformer_list=[('city est',\n",
       "                                                 EstimatorTransformer(estimator=CityEstimator())),\n",
       "                                                ('lat long',\n",
       "                                                 EstimatorTransformer(estimator=Pipeline(memory=None,\n",
       "                                                                                         steps=[('columntx',\n",
       "                                                                                                 ColumnSelectTransformer(col_names=['latitude',\n",
       "                                                                                                                                    'longitude'])),\n",
       "                                                                                                ('knear',\n",
       "                                                                                                 KNeighborsRegressor(algorithm='auto',\n",
       "                                                                                                                     leaf_size=30,\n",
       "                                                                                                                     met...\n",
       "                                                                                                 ColumnSelectTransformer(col_names=['attributes'])),\n",
       "                                                                                                ('dict '\n",
       "                                                                                                 'fixer',\n",
       "                                                                                                 DictAttEncoder()),\n",
       "                                                                                                ('dict '\n",
       "                                                                                                 'vector',\n",
       "                                                                                                 DictVectorizer(dtype=<class 'numpy.float64'>,\n",
       "                                                                                                                separator='=',\n",
       "                                                                                                                sort=True,\n",
       "                                                                                                                sparse=True)),\n",
       "                                                                                                ('data '\n",
       "                                                                                                 'res '\n",
       "                                                                                                 'model',\n",
       "                                                                                                 DataAndResidualRegressor())],\n",
       "                                                                                         verbose=False)))],\n",
       "                              transformer_weights=None, verbose=False)),\n",
       "                ('lin model',\n",
       "                 LinearRegression(copy_X=True, fit_intercept=True, n_jobs=None,\n",
       "                                  normalize=False))],\n",
       "         verbose=False)"
      ]
     },
     "execution_count": 33,
     "metadata": {},
     "output_type": "execute_result"
    }
   ],
   "source": [
    "lr_model = LinearRegression()\n",
    "#lr_model = RandomForestRegressor(n_estimators=20)\n",
    "\n",
    "pipe5 = Pipeline([('columns all', union),\n",
    "                 ('lin model', lr_model)])\n",
    "\n",
    "pipe5.fit(xtrain, ytrain)"
   ]
  },
  {
   "cell_type": "code",
   "execution_count": 34,
   "metadata": {},
   "outputs": [
    {
     "name": "stdout",
     "output_type": "stream",
     "text": [
      "[0.6564442744819269, 0.6271389077898223]\n"
     ]
    }
   ],
   "source": [
    "pipe5_y, p5_score = pred_score(pipe5, xtest, ytest)\n",
    "print(p5_score)"
   ]
  },
  {
   "cell_type": "markdown",
   "metadata": {},
   "source": [
    "In summary, I built individual predictive models, based on the different metadata of each venue in our dataset. This required some custom transformers and estimators as needed. Eventually, I combined the separate models into one ensemble model, which was fit using a Linear Regressor.\n",
    "\n",
    "The fit is probably not as good as it can get, but that was expected based on the lack of user data. That being said, if we look at our original city based model, and compare it ot our ensemble model, we do see an improvement in our predictions."
   ]
  },
  {
   "cell_type": "code",
   "execution_count": 36,
   "metadata": {},
   "outputs": [
    {
     "data": {
      "text/plain": [
       "[<matplotlib.lines.Line2D at 0x7f46622b2190>]"
      ]
     },
     "execution_count": 36,
     "metadata": {},
     "output_type": "execute_result"
    },
    {
     "data": {
      "image/png": "[encoded data removed]",
      "text/plain": [
       "<Figure size 864x432 with 1 Axes>"
      ]
     },
     "metadata": {
      "needs_background": "light"
     },
     "output_type": "display_data"
    }
   ],
   "source": [
    "city_venue = list(range(0,len(xtest)))\n",
    "plt.figure(figsize=(12,6))\n",
    "plt.plot(city_venue[0:100], ytest[0:100], 'r.' ,label='Actual')\n",
    "plt.plot(city_venue[0:100], city_test_pred[0:100], 'bo' ,label='Pred')"
   ]
  },
  {
   "cell_type": "markdown",
   "metadata": {},
   "source": [
    "The above plot is from the city model, whereas the one below is from our ensemble model. Although not great (especially for outliers), it's much improved over the original model."
   ]
  },
  {
   "cell_type": "code",
   "execution_count": 35,
   "metadata": {},
   "outputs": [
    {
     "data": {
      "text/plain": [
       "[<matplotlib.lines.Line2D at 0x7f466057fa50>]"
      ]
     },
     "execution_count": 35,
     "metadata": {},
     "output_type": "execute_result"
    },
    {
     "data": {
      "image/png": "[encoded data removed]",
      "text/plain": [
       "<Figure size 864x432 with 1 Axes>"
      ]
     },
     "metadata": {
      "needs_background": "light"
     },
     "output_type": "display_data"
    }
   ],
   "source": [
    "city_venue = list(range(0,len(xtest)))\n",
    "plt.figure(figsize=(12,6))\n",
    "plt.plot(city_venue[0:100], ytest[0:100], 'r.' ,label='Actual')\n",
    "plt.plot(city_venue[0:100], pipe5_y[0:100], 'bo' ,label='Pred')"
   ]
  }
 ],
 "metadata": {
  "kernelspec": {
   "display_name": "Python 3",
   "language": "python",
   "name": "python3"
  },
  "language_info": {
   "codemirror_mode": {
    "name": "ipython",
    "version": 3
   },
   "file_extension": ".py",
   "mimetype": "text/x-python",
   "name": "python",
   "nbconvert_exporter": "python",
   "pygments_lexer": "ipython3",
   "version": "3.7.4"
  }
 },
 "nbformat": 4,
 "nbformat_minor": 2
}
