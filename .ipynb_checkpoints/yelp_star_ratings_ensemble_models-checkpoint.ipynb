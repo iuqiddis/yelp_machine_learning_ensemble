{
 "cells": [
  {
   "cell_type": "code",
   "execution_count": null,
   "metadata": {},
   "outputs": [],
   "source": [
    "%matplotlib inline\n",
    "import matplotlib.pyplot as plt\n",
    "import dill\n",
    "import pandas as pd\n",
    "import numpy as np\n",
    "from sklearn import base\n",
    "from sklearn.pipeline import Pipeline\n",
    "from sklearn.neighbors import KNeighborsRegressor\n",
    "from sklearn.feature_extraction import DictVectorizer\n",
    "from sklearn.linear_model import Ridge\n",
    "from sklearn.pipeline import Pipeline\n",
    "from sklearn.ensemble import RandomForestRegressor\n",
    "from sklearn.linear_model import LinearRegression\n",
    "from sklearn.pipeline import FeatureUnion\n",
    "from sklearn.model_selection import train_test_split\n",
    "from sklearn.metrics import mean_squared_error\n",
    "from sklearn.model_selection import GridSearchCV"
   ]
  },
  {
   "cell_type": "code",
   "execution_count": null,
   "metadata": {},
   "outputs": [],
   "source": [
    "import ujson as json\n",
    "import gzip\n",
    "\n",
    "with gzip.open('yelp_train_academic_dataset_business.json.gz') as f:\n",
    "    data = [json.loads(line) for line in f]"
   ]
  },
  {
   "cell_type": "code",
   "execution_count": null,
   "metadata": {},
   "outputs": [],
   "source": [
    "#dill.dump(data, open('data.pkd', 'wb'))\n",
    "data = dill.load(open('data.pkd', 'rb'))"
   ]
  },
  {
   "cell_type": "code",
   "execution_count": null,
   "metadata": {},
   "outputs": [],
   "source": [
    "# How a business is listed in our data\n",
    "for i in data[0]:\n",
    "    print (i,':', data[0][i])"
   ]
  },
  {
   "cell_type": "code",
   "execution_count": null,
   "metadata": {},
   "outputs": [],
   "source": [
    "star_ratings = [business['stars'] for business in data]"
   ]
  },
  {
   "cell_type": "code",
   "execution_count": null,
   "metadata": {},
   "outputs": [],
   "source": [
    "city = [business['city'] for business in data]"
   ]
  },
  {
   "cell_type": "code",
   "execution_count": null,
   "metadata": {},
   "outputs": [],
   "source": [
    "xtrain, xtest, ytrain, ytest = train_test_split(data, star_ratings, train_size=0.8, \n",
    "                                                random_state=100)"
   ]
  },
  {
   "cell_type": "code",
   "execution_count": null,
   "metadata": {},
   "outputs": [],
   "source": [
    "class CityEstimator(base.BaseEstimator, base.RegressorMixin):\n",
    "\n",
    "    def fit(self, X, y):\n",
    "        \n",
    "        # X is input list of rows. y is corresponding star ratings\n",
    "        city = [business['city'] for business in X]\n",
    "        \n",
    "        # using dataframes for grouped means\n",
    "        city_stars = pd.DataFrame({'city': city,\n",
    "                                   'star_ratings': y})\n",
    "        city_avg = city_stars.groupby(['city'], as_index=False).mean()\n",
    "        \n",
    "        # going back to the dictionary as easier to add missing data during predict\n",
    "        agg_city = city_avg['city'].to_list()\n",
    "        agg_stars = city_avg['star_ratings'].to_list()\n",
    "\n",
    "        self.city_agg = {i:j for i,j in zip(agg_city, agg_stars)}\n",
    "   \n",
    "        return self\n",
    "\n",
    "    def predict(self, X):\n",
    "        \n",
    "        predX = [business['city'] for business in X]\n",
    "        predY = []\n",
    "        for i in predX:\n",
    "            if i in self.city_agg:\n",
    "                predY.append(self.city_agg[i])\n",
    "            else:\n",
    "                predY.append(2.5) # if city is not in dataset, if just guesses 2.5\n",
    "        return predY\n"
   ]
  },
  {
   "cell_type": "code",
   "execution_count": null,
   "metadata": {},
   "outputs": [],
   "source": [
    "def pred_score(model, xdata, ydata):\n",
    "    pred = model.predict(xdata)\n",
    "    score = mean_squared_error(ydata, pred)\n",
    "    return pred, score"
   ]
  },
  {
   "cell_type": "code",
   "execution_count": null,
   "metadata": {},
   "outputs": [],
   "source": [
    "# Initializing Model\n",
    "city_est = CityEstimator()\n",
    "city_est.fit(data, star_ratings)"
   ]
  },
  {
   "cell_type": "code",
   "execution_count": null,
   "metadata": {},
   "outputs": [],
   "source": [
    "# Testing with original data\n",
    "city_test_pred, city_score = pred_score(city_est, xtest, ytest)\n",
    "print(city_score)"
   ]
  },
  {
   "cell_type": "code",
   "execution_count": null,
   "metadata": {},
   "outputs": [],
   "source": [
    "city_venue = list(range(0,len(xtest)))\n",
    "plt.plot(city_venue, ytest, 'r.' ,label='Actual')\n",
    "plt.plot(city_venue, city_test_pred, 'bo' ,label='Pred')"
   ]
  },
  {
   "cell_type": "code",
   "execution_count": null,
   "metadata": {},
   "outputs": [],
   "source": [
    "plt.hist(ytest, bins=10, range=(1,5), edgecolor='b')"
   ]
  },
  {
   "cell_type": "code",
   "execution_count": null,
   "metadata": {},
   "outputs": [],
   "source": [
    "class ColumnSelectTransformer(base.BaseEstimator, base.TransformerMixin):\n",
    "\n",
    "    def __init__(self, col_names):\n",
    "        self.col_names = col_names\n",
    "\n",
    "    def fit(self, X, y=None):\n",
    "        # This transformer doesn't need to learn anything about the data,\n",
    "        # so it can just return self without any further processing\n",
    "        return self\n",
    "\n",
    "    def transform(self, X):\n",
    "        tx_undata = [] #not formatted so UNformatted DATA\n",
    "        for i in self.col_names:\n",
    "            tx_undata.append([row[i] for row in X])\n",
    "\n",
    "        len_col = len(tx_undata)\n",
    "\n",
    "        tx_data = []\n",
    "        for i in tx_undata[0]:\n",
    "            tx_data.append([i])\n",
    "        for i in range(1, len(self.col_names)):\n",
    "            for j in range(len(tx_data)):\n",
    "                tx_data[j].append(tx_undata[i][j])\n",
    "\n",
    "        # Return an array with the same number of rows as X and one\n",
    "        # column for each in self.col_names\n",
    "        return tx_data\n"
   ]
  },
  {
   "cell_type": "code",
   "execution_count": null,
   "metadata": {},
   "outputs": [],
   "source": [
    "col_in = ['latitude', 'longitude']\n",
    "cst = ColumnSelectTransformer(col_in)\n",
    "data_subset = data[0:5]\n",
    "cst2 = cst.fit_transform(data_subset)\n",
    "cst3 = [[i['latitude'], i['longitude']] for i in data_subset]\n",
    "print(cst2 == cst3)"
   ]
  },
  {
   "cell_type": "code",
   "execution_count": null,
   "metadata": {},
   "outputs": [],
   "source": [
    "col_in = ['latitude', 'longitude']\n",
    "\n",
    "pipe = Pipeline([('columntx', ColumnSelectTransformer(col_in)),\n",
    "                 ('knear', KNeighborsRegressor(n_jobs=-1))])\n",
    "\n",
    "#pipe.fit(xtrain, ytrain)"
   ]
  },
  {
   "cell_type": "code",
   "execution_count": null,
   "metadata": {},
   "outputs": [],
   "source": [
    "kparams = { 'knear__n_neighbors': [90, 100, 110, 120, 200],\n",
    "            'knear__weights': ['uniform', 'distance']}\n",
    "\n",
    "cn = GridSearchCV(pipe, kparams, cv=5, scoring='neg_mean_squared_error')\n",
    "cn.fit(xtrain, ytrain)"
   ]
  },
  {
   "cell_type": "code",
   "execution_count": null,
   "metadata": {},
   "outputs": [],
   "source": [
    "cn.best_params_"
   ]
  },
  {
   "cell_type": "code",
   "execution_count": null,
   "metadata": {},
   "outputs": [],
   "source": [
    "pipe = Pipeline([('columntx', ColumnSelectTransformer(col_in)),\n",
    "                 ('knear', KNeighborsRegressor(n_neighbors=100, n_jobs=-1))])\n",
    "pipe.fit(xtrain, ytrain)"
   ]
  },
  {
   "cell_type": "code",
   "execution_count": null,
   "metadata": {},
   "outputs": [],
   "source": [
    "print(pred_score(pipe,xtest, ytest)[1])"
   ]
  },
  {
   "cell_type": "markdown",
   "metadata": {},
   "source": [
    "## Category Model"
   ]
  },
  {
   "cell_type": "code",
   "execution_count": null,
   "metadata": {},
   "outputs": [],
   "source": [
    "class DictEncoder(base.BaseEstimator, base.TransformerMixin):\n",
    "\n",
    "    def fit(self, X, y=None):\n",
    "        return self\n",
    "\n",
    "    def transform(self, X):\n",
    "        ct_dt = []\n",
    "        # the extra loop is because this is a list nested in a list nested in a list\n",
    "        for i in X:\n",
    "            for j in i:\n",
    "                ct_dt.append({})\n",
    "                for k in j:\n",
    "                    ct_dt[-1][k] = 1\n",
    "\n",
    "        return ct_dt"
   ]
  },
  {
   "cell_type": "code",
   "execution_count": null,
   "metadata": {},
   "outputs": [],
   "source": [
    "col_in = ['categories']\n",
    "cst = ColumnSelectTransformer(col_in).fit_transform(data_subset)\n",
    "for i in cst:\n",
    "    print(i)\n",
    "print('\\n')\n",
    "\n",
    "cst2 = DictEncoder().fit_transform(cst)\n",
    "for i in cst2:\n",
    "    print(i)\n"
   ]
  },
  {
   "cell_type": "code",
   "execution_count": null,
   "metadata": {},
   "outputs": [],
   "source": [
    "col_in = ['categories']\n",
    "pipe2 = Pipeline([('columntx', ColumnSelectTransformer(col_in)),\n",
    "                  ('dict_enc', DictEncoder()),\n",
    "                  ('dict_vec', DictVectorizer()),\n",
    "                  ('ridge', Ridge())])\n",
    "\n",
    "kparams = { 'ridge__alpha': [3.0, 3.5, 4.0, 5.0, 6.0, 7.0, 10.0]}\n",
    "\n",
    "catn = GridSearchCV(pipe2, kparams, cv=5, scoring='neg_mean_squared_error')\n",
    "catn.fit(xtrain, ytrain)\n",
    "catn.best_params_"
   ]
  },
  {
   "cell_type": "code",
   "execution_count": null,
   "metadata": {},
   "outputs": [],
   "source": [
    "col_in = ['categories']\n",
    "pipe2 = Pipeline([('column tx', ColumnSelectTransformer(col_in)),\n",
    "                  ('dict fixer', DictEncoder()),\n",
    "                  ('dict vector', DictVectorizer()),\n",
    "                  ('ridge model', Ridge(alpha=7.0))])\n",
    "\n",
    "pipe2.fit(xtrain, ytrain)"
   ]
  },
  {
   "cell_type": "code",
   "execution_count": null,
   "metadata": {},
   "outputs": [],
   "source": [
    "print(pred_score(pipe2, xtest, ytest)[1])"
   ]
  },
  {
   "cell_type": "markdown",
   "metadata": {},
   "source": [
    "## Attribute Model"
   ]
  },
  {
   "cell_type": "code",
   "execution_count": null,
   "metadata": {},
   "outputs": [],
   "source": [
    "class DictAttEncoder(base.BaseEstimator, base.TransformerMixin):\n",
    "\n",
    "    def fit(self, X, y=None):\n",
    "        return self\n",
    "\n",
    "    def transform(self, X):\n",
    "        #self.at_lt = X   # attribute list\n",
    "        at_dt = []  # attribute flat dictionary\n",
    "        for i in X:\n",
    "            for j in i:\n",
    "                at_dt.append({})\n",
    "                for k, l in j.items():\n",
    "                    if not type(l) is dict:\n",
    "                        if l == False:\n",
    "                            at_dt[-1][k] = 0\n",
    "                        elif l == True:\n",
    "                            at_dt[-1][k] = 1\n",
    "                        else:\n",
    "                            at_dt[-1]['{}_{}'.format(k, l)] = 1\n",
    "                    if type(l) is dict:\n",
    "                        for m, n in l.items():\n",
    "                            if n == False:\n",
    "                                at_dt[-1]['{}_{}'.format(k, m)] = 0\n",
    "                            elif n == True:\n",
    "                                at_dt[-1]['{}_{}'.format(k, m)] = 1\n",
    "\n",
    "        return at_dt"
   ]
  },
  {
   "cell_type": "code",
   "execution_count": null,
   "metadata": {},
   "outputs": [],
   "source": [
    "col_in = ['attributes']\n",
    "cst = ColumnSelectTransformer(col_in).fit_transform(data_subset)\n",
    "for i in cst:\n",
    "    print(i)\n",
    "print('\\n')\n",
    "\n",
    "cst2 = DictAttEncoder().fit_transform(cst)\n",
    "for i in cst2:\n",
    "    print(i)\n"
   ]
  },
  {
   "cell_type": "code",
   "execution_count": null,
   "metadata": {},
   "outputs": [],
   "source": [
    "col_in = ['attributes']\n",
    "pipe3 = Pipeline([('columntx', ColumnSelectTransformer(col_in)),\n",
    "                  ('dict_fix', DictAttEncoder()),\n",
    "                  ('dict_vec', DictVectorizer()),\n",
    "                 ('forest', RandomForestRegressor(n_jobs=-1))])\n",
    "\n",
    "kparams = { 'forest__n_estimators': [200, 300, 400],\n",
    "            'forest__max_depth': [10, 25, 40],\n",
    "            'forest__min_samples_split': [2, 10, 25, 50]}\n",
    "\n",
    "fn = GridSearchCV(pipe3, kparams, cv=5, scoring='neg_mean_squared_error')\n",
    "fn.fit(xtrain, ytrain)\n",
    "fn.best_params_\n",
    "\n"
   ]
  },
  {
   "cell_type": "code",
   "execution_count": null,
   "metadata": {},
   "outputs": [],
   "source": [
    "col_in = ['attributes']\n",
    "pipe3 = Pipeline([('column tx', ColumnSelectTransformer(col_in)),\n",
    "                  ('dict fixer', DictAttEncoder()),\n",
    "                  ('dict vector', DictVectorizer()),\n",
    "                 ('forest model', RandomForestRegressor(n_jobs=-1, max_depth=40,\n",
    "                                                        n_estimators=300,\n",
    "                                                        min_samples_split=50))])\n",
    "\n",
    "pipe3.fit(xtrain, ytrain)\n",
    "\n",
    "print(pred_score(pipe3, xtest, ytest)[1])"
   ]
  },
  {
   "cell_type": "markdown",
   "metadata": {},
   "source": [
    "## Residual Estimator"
   ]
  },
  {
   "cell_type": "code",
   "execution_count": null,
   "metadata": {},
   "outputs": [],
   "source": [
    "class DataAndResidualRegressor(base.BaseEstimator, base.TransformerMixin):\n",
    "\n",
    "    def fit(self, X, y):\n",
    "        self.data = X\n",
    "        self.y_act = y\n",
    "\n",
    "        self.data_model1 = RandomForestRegressor(n_jobs=-1, max_depth=40,\n",
    "                                                        n_estimators=300,\n",
    "                                                        min_samples_split=50)\n",
    "        #self.data_model2 = Ridge(alpha=3.0)\n",
    "        self.data_model2 = RandomForestRegressor(n_jobs=-1, max_depth=40,\n",
    "                                                        n_estimators=300,\n",
    "                                                        min_samples_split=50)\n",
    "\n",
    "        self.data_model1.fit(self.data, self.y_act)\n",
    "        self.y_est = self.data_model1.predict(self.data)\n",
    "        self.y_res = self.y_act - self.y_est\n",
    "\n",
    "        self.data_model2.fit(self.data, self.y_res)\n",
    "\n",
    "        return self\n",
    "\n",
    "    def predict(self, X):\n",
    "        y_predict = self.data_model1.predict(X) + self.data_model2.predict(X)\n",
    "\n",
    "        return y_predict\n"
   ]
  },
  {
   "cell_type": "code",
   "execution_count": null,
   "metadata": {},
   "outputs": [],
   "source": [
    "col_in = ['attributes']\n",
    "pipe4 = Pipeline([('column tx', ColumnSelectTransformer(col_in)),\n",
    "                  ('dict fixer', DictAttEncoder()),\n",
    "                  ('dict vector', DictVectorizer()),\n",
    "                  ('data res model', DataAndResidualRegressor())])\n",
    "\n",
    "pipe4.fit(xtrain, ytrain)\n",
    "print(pred_score(pipe4, xtest, ytest)[1])"
   ]
  },
  {
   "cell_type": "markdown",
   "metadata": {},
   "source": [
    "## Custom Estimator"
   ]
  },
  {
   "cell_type": "code",
   "execution_count": null,
   "metadata": {},
   "outputs": [],
   "source": [
    "class EstimatorTransformer(base.BaseEstimator, base.TransformerMixin):\n",
    "\n",
    "    def __init__(self, estimator):\n",
    "        self.estimator = estimator\n",
    "        #return self\n",
    "\n",
    "    # What needs to be done here?\n",
    "\n",
    "    def fit(self, X, y):\n",
    "        self.estimator.fit(X,y)\n",
    "        return self\n",
    "\n",
    "    # Fit the stored estimator.\n",
    "    # Question: what should be returned?\n",
    "\n",
    "    def transform(self, X):\n",
    "        self.y_est = self.estimator.predict(X)\n",
    "        self.y_out = [[i] for i in self.y_est]\n",
    "\n",
    "        return self.y_out"
   ]
  },
  {
   "cell_type": "code",
   "execution_count": null,
   "metadata": {},
   "outputs": [],
   "source": [
    "\n",
    "# Use predict on the stored estimator as a \"transformation\".\n",
    "# Be sure to return a 2-D array.\n",
    "\n",
    "############################################################\n",
    "\n",
    "data = dill.load(open('data.pkd', 'rb'))\n",
    "star_ratings = [row['stars'] for row in data]\n",
    "\n",
    "city_est = CityEstimator()\n",
    "city_trans = EstimatorTransformer(city_est)\n",
    "\n",
    "city_trans.fit(data, star_ratings)\n",
    "assert ([r[0] for r in city_trans.transform(data[:5])]\n",
    "        == city_est.predict(data[:5]))\n",
    "\n",
    "\n",
    "\n",
    "union = FeatureUnion([('city est', city_trans),\n",
    "                      ('lat long', latlong_trans),\n",
    "                      ('cat mod', cat_trans),\n",
    "                      ('att mod', att_trans)])\n",
    "\n"
   ]
  },
  {
   "cell_type": "code",
   "execution_count": null,
   "metadata": {},
   "outputs": [],
   "source": [
    "from sklearn.pipeline import FeatureUnion\n",
    "\n",
    "\n",
    "city_trans = EstimatorTransformer(city_est)\n",
    "latlong_trans = EstimatorTransformer(pipe)\n",
    "cat_trans = EstimatorTransformer(pipe2)\n",
    "att_trans = EstimatorTransformer(pipe4)\n",
    "\n",
    "\n",
    "union = FeatureUnion([('city est', city_trans),\n",
    "                      ('lat long', latlong_trans),\n",
    "                      ('cat mod', cat_trans),\n",
    "                      ('att mod', att_trans)])"
   ]
  },
  {
   "cell_type": "code",
   "execution_count": null,
   "metadata": {},
   "outputs": [],
   "source": [
    "\n",
    "\n",
    "lr_model = LinearRegression()\n",
    "#lr_model = RandomForestRegressor(n_estimators=20)\n",
    "\n",
    "pipe5 = Pipeline([('columns all', union),\n",
    "                 ('lin model', lr_model)])\n",
    "\n",
    "pipe5.fit(xtrain, ytrain)"
   ]
  },
  {
   "cell_type": "code",
   "execution_count": null,
   "metadata": {},
   "outputs": [],
   "source": [
    "pipe5_y, p5_score = pred_score(pipe5, xtest, ytest)\n",
    "print(p5_score)"
   ]
  },
  {
   "cell_type": "code",
   "execution_count": null,
   "metadata": {},
   "outputs": [],
   "source": [
    "city_venue = list(range(0,len(xtest)))\n",
    "plt.figure(figsize=(12,6))\n",
    "plt.plot(city_venue[0:100], ytest[0:100], 'r.' ,label='Actual')\n",
    "plt.plot(city_venue[0:100], pipe5_y[0:100], 'bo' ,label='Pred')"
   ]
  },
  {
   "cell_type": "code",
   "execution_count": null,
   "metadata": {},
   "outputs": [],
   "source": [
    "city_venue = list(range(0,len(xtest)))\n",
    "plt.figure(figsize=(12,6))\n",
    "plt.plot(city_venue[0:100], ytest[0:100], 'r.' ,label='Actual')\n",
    "plt.plot(city_venue[0:100], city_test_pred[0:100], 'bo' ,label='Pred')"
   ]
  }
 ],
 "metadata": {
  "kernelspec": {
   "display_name": "Python 3",
   "language": "python",
   "name": "python3"
  },
  "language_info": {
   "codemirror_mode": {
    "name": "ipython",
    "version": 3
   },
   "file_extension": ".py",
   "mimetype": "text/x-python",
   "name": "python",
   "nbconvert_exporter": "python",
   "pygments_lexer": "ipython3",
   "version": "3.7.4"
  }
 },
 "nbformat": 4,
 "nbformat_minor": 2
}
