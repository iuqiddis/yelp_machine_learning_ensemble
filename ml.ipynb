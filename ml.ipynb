{
 "cells": [
  {
   "cell_type": "code",
   "execution_count": 1,
   "metadata": {},
   "outputs": [],
   "source": [
    "%matplotlib inline\n",
    "import matplotlib\n",
    "import seaborn as sns\n",
    "sns.set()\n",
    "matplotlib.rcParams['figure.dpi'] = 144"
   ]
  },
  {
   "cell_type": "code",
   "execution_count": 2,
   "metadata": {},
   "outputs": [],
   "source": [
    "from static_grader import grader"
   ]
  },
  {
   "cell_type": "markdown",
   "metadata": {},
   "source": [
    "# ML: Predicting Star Ratings\n"
   ]
  },
  {
   "cell_type": "markdown",
   "metadata": {},
   "source": [
    "Our objective is to predict a new venue's popularity from information available when the venue opens.  We will do this by machine learning from a data set of venue popularities provided by Yelp.  The data set contains meta data about the venue (where it is located, the type of food served, etc.).  It also contains a star rating. Note that the venues are not limited to restaurants. This tutorial will walk you through one way to build a machine-learning algorithm.\n"
   ]
  },
  {
   "cell_type": "markdown",
   "metadata": {},
   "source": [
    "## Metric\n"
   ]
  },
  {
   "cell_type": "markdown",
   "metadata": {},
   "source": [
    "Your model will be assessed based on the root mean squared error of the number of stars you predict.  There is a reference solution (which should not be too hard to beat).  The reference solution has a score of 1. Keeping this in mind...\n"
   ]
  },
  {
   "cell_type": "markdown",
   "metadata": {},
   "source": [
    "## A note on scoring"
   ]
  },
  {
   "cell_type": "markdown",
   "metadata": {},
   "source": [
    "It **is** possible to score >1 on these questions. This indicates that you've beaten our reference model - we compare our model's score on a test set to your score on a test set. See how high you can go!\n",
    "\n"
   ]
  },
  {
   "cell_type": "markdown",
   "metadata": {},
   "source": [
    "## Download and parse the incoming data\n"
   ]
  },
  {
   "cell_type": "markdown",
   "metadata": {},
   "source": [
    "We start by downloading the data set from Amazon S3:"
   ]
  },
  {
   "cell_type": "code",
   "execution_count": 2,
   "metadata": {},
   "outputs": [
    {
     "name": "stdout",
     "output_type": "stream",
     "text": [
      "download: s3://dataincubator-course/mldata/yelp_train_academic_dataset_business.json.gz to ./yelp_train_academic_dataset_business.json.gz\n"
     ]
    }
   ],
   "source": [
    "!aws s3 sync s3://dataincubator-course/mldata/ . --exclude '*' --include 'yelp_train_academic_dataset_business.json.gz'"
   ]
  },
  {
   "cell_type": "markdown",
   "metadata": {},
   "source": [
    "The training data are a series of JSON objects, in a Gzipped file. Python supports Gzipped files natively: [`gzip.open`](https://docs.python.org/2/library/gzip.html) has the same interface as `open`, but handles `.gz` files automatically.\n",
    "\n",
    "The built-in json package has a `loads()` function that converts a JSON string into a Python dictionary.  We could call that once for each row of the file. [`ujson`](http://docs.micropython.org/en/latest/library/ujson.html) has the same interface as the built-in `json` library, but is *substantially* faster (at the cost of non-robust handling of malformed json).  We will use that inside a list comprehension to get a list of dictionaries:"
   ]
  },
  {
   "cell_type": "code",
   "execution_count": 3,
   "metadata": {},
   "outputs": [],
   "source": [
    "import ujson as json\n",
    "import gzip\n",
    "\n",
    "with gzip.open('yelp_train_academic_dataset_business.json.gz') as f:\n",
    "    data = [json.loads(line) for line in f]"
   ]
  },
  {
   "cell_type": "markdown",
   "metadata": {},
   "source": [
    "In Scikit Learn, the labels to be predicted, in this case, the stars, are always kept in a separate data structure than the features.  Let's get in this habit now, by creating a separate list of the ratings:"
   ]
  },
  {
   "cell_type": "code",
   "execution_count": 4,
   "metadata": {},
   "outputs": [],
   "source": [
    "star_ratings = [row['stars'] for row in data]"
   ]
  },
  {
   "cell_type": "markdown",
   "metadata": {},
   "source": [
    "### Notes:"
   ]
  },
  {
   "cell_type": "markdown",
   "metadata": {},
   "source": [
    "1. [Pandas](http://pandas.pydata.org/) is able to read JSON text directly.  Use the `read_json()` function with the `lines=True` keyword argument.  While the rest of this notebook will assume you are using a list of dictionaries, you can complete it with dataframes, if you so desire.  Some of the example code will need to be modified in this case.\n",
    "\n",
    "2. There are obvious mistakes in the data.  There is no need to try to correct them.\n"
   ]
  },
  {
   "cell_type": "markdown",
   "metadata": {},
   "source": [
    "## Building models\n"
   ]
  },
  {
   "cell_type": "markdown",
   "metadata": {},
   "source": [
    "For many of the questions below, you will need to build and train an estimator that predicts the star rating given certain features.  This could be a custom estimator that you built from scratch, but in most cases will be a pipeline containing custom or pre-built transformers and an existing estimator.  We will give you hints of how to proceed, but the only requirement for you is to produce a model that does as well, or better, than the reference models we created.  You are welcome to do this however you like. The details are up to you.\n",
    "\n",
    "The formats of the input and output to the `fit()` and `predict()` methods are ultimately up to you as well, but we recommend that you deal with lists or arrays, for consistency with the rest of Scikit Learn.  It is also a good idea to take the same type of data for the feature matrix in both `fit()` and `predict()`.  While it is tempting to read the stars from the feature matrix X, you should get in the habit of passing the labels as a separate argument to the `fit()` method.\n",
    "\n",
    "You may find it useful to serialize the trained models to disk.  This will allow to reload it after restarting the Jupyter notebook, without needing to retrain it.  We recommend using the [`dill` library](https://pypi.python.org/pypi/dill) for this (although the [`joblib` library](http://scikit-learn.org/stable/modules/model_persistence.html) also works).  Use\n",
    "```python\n",
    "dill.dump(estimator, open('estimator.dill', 'w'))\n",
    "```\n",
    "to serialize the object `estimator` to the file `estimator.dill`.  If you have trouble with this, try setting the `recurse=True` keyword arguments in the call of `dill.dump()`.  The estimator can be deserialized by calling\n",
    "```python\n",
    "estimator = dill.load(open('estimator.dill', 'r'))\n",
    "```"
   ]
  },
  {
   "cell_type": "markdown",
   "metadata": {},
   "source": [
    "# Questions\n"
   ]
  },
  {
   "cell_type": "markdown",
   "metadata": {},
   "source": [
    "Each of the \"model\" questions asks you to create a function that models the number of stars venues will receive.  It will be passed a list of dictionaries.  Each of these will have the same format as the JSON objects you've just read in.  Some of the keys (like the stars!) will have been removed.  This function should return a list of numbers of the same length, indicating the predicted star ratings.\n",
    "\n",
    "This function is passed to the `score()` function, which will receive input from the grader, run your function with that input, report the results back to the grader, and print out the score the grader returned.  Depending on how you constructed your estimator, you may be able to pass the predict method directly to the `score()` function.  If not, you will need to write a small wrapper function to mediate the data types.\n"
   ]
  },
  {
   "cell_type": "markdown",
   "metadata": {},
   "source": [
    "## city_avg"
   ]
  },
  {
   "cell_type": "markdown",
   "metadata": {},
   "source": [
    "The venues belong to different cities.  You can imagine that the ratings in some cities are probably higher than others.  We wish to build an estimator to make a prediction based on this, but first we need to work out the average rating for each city.  For this problem, create a list of tuples (city name, star rating), one for each city in the data set.\n",
    "\n",
    "There are many ways to do this; please feel free to experiment on your own.  If you get stuck, the steps below attempt to guide you through the process.\n",
    "\n",
    "A simple approach is to go through all of the dictionaries in our array, calculating the sum of the star ratings and the number of venues for each city.  At the end, we can just divide the stars by the count to get the average.\n",
    "\n",
    "We could create a separate sum and count variable for each city, but that will get tedious quickly.  A better approach to to create a dictionary for each.  The key will be the city name, and the value the running sum or running count.\n",
    "\n",
    "One slight annoyance of this approach is that we will have to test whether a key exists in the dictionary before adding to the running tally.  The collections module's `defaultdict` class works around this by providing default values for keys that haven't been used.  Thus, if we do"
   ]
  },
  {
   "cell_type": "code",
   "execution_count": 5,
   "metadata": {},
   "outputs": [],
   "source": [
    "from collections import defaultdict\n",
    "star_sum = defaultdict(int)\n",
    "count = defaultdict(int)"
   ]
  },
  {
   "cell_type": "markdown",
   "metadata": {},
   "source": [
    "we can increment any key of `stars` or `count` without first worrying whether the key exists.  We need to go through the `data` and `star_ratings` list together, which we can do with the `zip()` function."
   ]
  },
  {
   "cell_type": "code",
   "execution_count": null,
   "metadata": {},
   "outputs": [],
   "source": [
    "for row, stars in zip(data, star_ratings):\n",
    "    # increment the running sum in star_sum\n",
    "    # increment the running count in count"
   ]
  },
  {
   "cell_type": "markdown",
   "metadata": {},
   "source": [
    "Now we can calculate the average ratings.  Again, a dictionary makes a good container."
   ]
  },
  {
   "cell_type": "code",
   "execution_count": null,
   "metadata": {},
   "outputs": [],
   "source": [
    "avg_stars = dict()\n",
    "for city in star_sum:\n",
    "    # calculate average star rating and store in avg_stars"
   ]
  },
  {
   "cell_type": "markdown",
   "metadata": {},
   "source": [
    "There should be 167 different cities:"
   ]
  },
  {
   "cell_type": "code",
   "execution_count": null,
   "metadata": {},
   "outputs": [],
   "source": [
    "assert len(avg_stars) == 167"
   ]
  },
  {
   "cell_type": "markdown",
   "metadata": {},
   "source": [
    "We can get that list of tuples by converting the returned view object from the `.items()` method into a list."
   ]
  },
  {
   "cell_type": "code",
   "execution_count": 5,
   "metadata": {},
   "outputs": [
    {
     "name": "stdout",
     "output_type": "stream",
     "text": [
      "==================\n",
      "Your score:  1.0\n",
      "==================\n"
     ]
    }
   ],
   "source": [
    "avg_stars = [('Ahwatukee', 3.6875), ('Anthem', 3.7818181818181817), ('Apache Junction', 3.6375), ('Arcadia', 5.0), ('Atlanta', 3.5), ('Avondale', 3.53862660944206), ('Black Canyon City', 3.0), ('Bonnyrigg', 3.75), ('Boulder City', 4.136363636363637), ('Buckeye', 3.408450704225352), ('C Las Vegas', 3.0), ('Cambridge', 4.2), ('Carefree', 3.888888888888889), ('Casa Grande', 3.5172413793103448), ('Cave Creek', 3.9122137404580153), ('Centennial Hills', 3.0), ('Central City Village', 3.125), ('Central Henderson', 3.5), ('Chandler', 3.667574931880109), ('Chandler-Gilbert', 5.0), ('City of Edinburgh', 3.0), ('Clark County', 3.0), ('Coolidge', 3.4375), ('Cottage Grove', 3.2222222222222223), ('Cramond', 4.25), ('Dalkeith', 4.333333333333333), ('Dane', 4.25), ('De Forest', 3.75), ('DeForest', 4.1), ('Deforest', 5.0), ('Eagan', 5.0), ('Edinburgh', 3.7963391136801543), ('El Mirage', 3.7), ('Enterprise', 3.2222222222222223), ('Fitchburg', 3.4634146341463414), ('Florence', 3.6176470588235294), ('Fort Kinnaird', 4.5), ('Fort McDowell', 3.357142857142857), ('Fort Mcdowell', 4.0), ('Fountain Hills', 3.7904761904761903), ('Fountain Hls', 3.0), ('Gila Bend', 3.375), ('Gilbert', 3.752396166134185), ('Glendale', 3.607404021937843), ('Glendale Az', 4.0), ('Gold Canyon', 3.5), ('Goldfield', 3.5), ('Goodyear', 3.5313653136531364), ('Green Valley', 4.0), ('Guadalupe', 4.0), ('Heidelberg', 2.5), ('Henderson', 3.6879310344827587), ('Henderson ', 4.0), ('Henderson (Green  Valley)', 4.0), ('Henderson (Stephanie)', 4.0), ('Henderson and Las vegas', 4.0), ('Higley', 3.5), ('Inverkeithing', 3.0), ('Juniper Green', 3.8333333333333335), ('Kitchener', 3.6982758620689653), ('Lake Las Vegas', 4.5), ('Las Vegas', 3.651368537461985), ('Las Vegas ', 3.6), ('Las Vegas East', 4.5), ('Las Vegas, NV 89147', 2.5), ('Lasswade', 3.3333333333333335), ('Laveen', 3.3392857142857144), ('Leith', 4.0), ('Litchfield Park', 3.7), ('Litchfield Park ', 4.5), ('Loanhead', 3.8), ('London', 3.0), ('Madison', 3.6457337883959045), ('Maricopa', 3.52), ('Mc Farland', 3.1), ('McFarland', 4.4), ('Mcfarland', 3.5), ('Mesa', 3.5901461829994585), ('Mesa ', 3.0), ('Middleton', 3.611111111111111), ('Midlothian', 4.5), ('Monona', 3.4727272727272727), ('Morristown', 3.5), ('Musselburgh', 3.55), ('N E Las Vegas', 5.0), ('N Las Vegas', 3.5625), ('N W Las Vegas', 3.5), ('N. Las Vegas', 3.25), ('NELLIS AFB', 4.5), ('Nellis AFB', 4.222222222222222), ('Nellis Afb', 3.25), ('Nellis Air Force Base', 3.0), ('New River', 3.5833333333333335), ('New Town', 3.6666666666666665), ('New York', 5.0), ('Newberry Springs', 3.5), ('Newbridge', 4.5), ('Newington', 3.0), ('North Las Vegas', 3.4460043196544277), ('North Las Vegas ', 3.5), ('North Queensferry', 3.5), ('North Scottsdale', 4.0), ('Old Town', 4.0), ('Paradise', 3.46875), ('Paradise Valley', 3.6690140845070425), ('Penicuik', 4.0), ('Peoria', 3.6388367729831144), ('Pheonix', 3.0), ('Phoenix', 3.6702903946388683), ('Phoenix ', 1.0), ('Phoenix Sky Harbor Center', 3.5), ('Portobello', 3.75), ('Queen Creek', 3.6456043956043955), ('Queensferry', 3.8333333333333335), ('Ratho', 3.0), ('Rio Verde', 4.0), ('Rochester', 5.0), ('Roslin', 4.5), ('Saguaro Lake', 3.0), ('San Tan Valley', 3.870967741935484), ('Scotland', 3.5), ('Scottsdale', 3.8206757594544327), ('Scottsdale, Phoenix, Chandler, Gilbert', 5.0), ('Sedona', 3.5), ('South Gyle', 2.5), ('South Las Vegas', 4.5), ('South Queensferry', 3.9), ('Spring Valley', 3.5), ('St Clements', 4.5), ('St Jacobs', 3.5), ('St. Jacobs', 4.5), ('Stanfield', 3.5), ('Stockbridge', 4.5), ('Stoughton', 3.75), ('Straiton', 2.5), ('Summerlin', 4.0), ('Summerlin South', 3.25), ('Sun City', 3.55), ('Sun City Anthem', 3.0), ('Sun City West', 3.625), ('Sun Lakes', 3.2222222222222223), ('Sun Prairie', 3.455223880597015), ('Sunrise', 3.0), ('Sunrise Manor', 3.0), ('Surprise', 3.5758426966292136), ('Surprise Crossing', 4.5), ('Tempe', 3.644621295279912), ('Tolleson', 3.2291666666666665), ('Tonopah', 3.75), ('Tonto Basin', 3.8333333333333335), ('Tortilla Flat', 4.166666666666667), ('Trempealeau', 4.0), ('Verona', 3.8548387096774195), ('Victoria Park', 4.5), ('W Henderson', 3.5), ('W Spring Valley', 3.0), ('W Summerlin', 3.5), ('Waddell', 3.8333333333333335), ('Water of Leith', 4.5), ('Waterloo', 3.6054421768707483), ('Waunakee', 3.3333333333333335), ('Whitney', 4.5), ('Wickenburg', 3.6555555555555554), ('Windsor', 3.5), ('Woolwich', 4.25), ('Youngtown', 3.857142857142857), ('chandler', 5.0)]\n",
    "\n",
    "#grader.score('ml__city_avg', list(avg_stars.items()))\n",
    "grader.score('ml__city_avg', avg_stars)"
   ]
  },
  {
   "cell_type": "markdown",
   "metadata": {},
   "source": [
    "## city_model"
   ]
  },
  {
   "cell_type": "markdown",
   "metadata": {},
   "source": [
    "Now, let's build a custom estimator that will make a prediction based solely on the city of a venue.  It is tempting to hard-code the answers from the previous section into this model, but we're going to resist and do things properly.\n",
    "\n",
    "This custom estimator will have a `.fit()` method.  It will receive `data` as its argument `X` and `star_ratings` as `y`, and should repeat the calculation of the previous problem there.  Then the `.predict()` method can look up the average rating for the city of each record it receives."
   ]
  },
  {
   "cell_type": "code",
   "execution_count": 6,
   "metadata": {},
   "outputs": [],
   "source": [
    "from sklearn import base\n",
    "import pandas as pd\n",
    "\n",
    "class CityEstimator(base.BaseEstimator, base.RegressorMixin):\n",
    "    \n",
    "    def __init__(self):\n",
    "        self.avg_stars = {}\n",
    "    \n",
    "    def fit(self, X, y):\n",
    "        \n",
    "        self.cy, self.sr = [], [] #city stars\n",
    "\n",
    "        for dt in X: #dt is dictionary\n",
    "            for key in dt.keys():\n",
    "                if key == 'city':\n",
    "                    self.cy.append(dt['city'])\n",
    "        for i in y:\n",
    "            self.sr.append(i)\n",
    "\n",
    "        self.spd = pd.DataFrame({ 'city': self.cy,\n",
    "                     'stars': self.sr})\n",
    "\n",
    "        self.sad = self.spd.groupby(self.spd['city'], as_index=False).mean()\n",
    "\n",
    "        self.ca = self.sad['city'].values.tolist() #aggregate city\n",
    "        self.sa = self.sad['stars'].values.tolist()\n",
    "\n",
    "        #self.avg_stars = {}\n",
    "        for i, j in zip(self.ca, self.sa):\n",
    "            self.avg_stars[i] = j\n",
    "            \n",
    "        return self\n",
    "    \n",
    "    def predict(self, X):\n",
    "        \n",
    "        \n",
    "        for i in X: # the key is in a list\n",
    "            for key in i.keys():\n",
    "                if key =='city':\n",
    "                    if not i[key] in self.avg_stars.keys():\n",
    "                        self.avg_stars[i[key]] = 2.5\n",
    "                        # in X the city name is a value. But its a key for self.avg_stars\n",
    "        return [self.avg_stars[row['city']] for row in X]"
   ]
  },
  {
   "cell_type": "markdown",
   "metadata": {},
   "source": [
    "Now we can create an instance of our estimator and train it."
   ]
  },
  {
   "cell_type": "code",
   "execution_count": 7,
   "metadata": {},
   "outputs": [
    {
     "data": {
      "text/plain": [
       "CityEstimator()"
      ]
     },
     "execution_count": 7,
     "metadata": {},
     "output_type": "execute_result"
    }
   ],
   "source": [
    "city_est = CityEstimator()\n",
    "city_est.fit(data, star_ratings)"
   ]
  },
  {
   "cell_type": "markdown",
   "metadata": {},
   "source": [
    "And let's see if it works."
   ]
  },
  {
   "cell_type": "code",
   "execution_count": 8,
   "metadata": {},
   "outputs": [
    {
     "data": {
      "text/plain": [
       "[3.6702903946388683, 3.75, 3.75, 3.75, 3.75]"
      ]
     },
     "execution_count": 8,
     "metadata": {},
     "output_type": "execute_result"
    }
   ],
   "source": [
    "city_est.predict(data[:5])\n",
    "#city_est.predict(data[:2])"
   ]
  },
  {
   "cell_type": "markdown",
   "metadata": {},
   "source": [
    "There is a problem, however.  What happens if we're asked to estimate the rating of a venue in a city that's not in our training set?"
   ]
  },
  {
   "cell_type": "code",
   "execution_count": 9,
   "metadata": {},
   "outputs": [
    {
     "data": {
      "text/plain": [
       "[2.5]"
      ]
     },
     "execution_count": 9,
     "metadata": {},
     "output_type": "execute_result"
    }
   ],
   "source": [
    "city_est.predict([{'city': 'Timbuktu'}])\n",
    "#city_est.predict([{'city': 'Pheonix'}])"
   ]
  },
  {
   "cell_type": "markdown",
   "metadata": {},
   "source": [
    "Solve this problem before submitting to the grader."
   ]
  },
  {
   "cell_type": "code",
   "execution_count": 56,
   "metadata": {},
   "outputs": [
    {
     "name": "stdout",
     "output_type": "stream",
     "text": [
      "==================\n",
      "Your score:  0.9994936726521964\n",
      "==================\n"
     ]
    }
   ],
   "source": [
    "grader.score('ml__city_model', city_est.predict)"
   ]
  },
  {
   "cell_type": "markdown",
   "metadata": {},
   "source": [
    "## lat_long_model"
   ]
  },
  {
   "cell_type": "markdown",
   "metadata": {},
   "source": [
    "You can imagine that a city-based model might not be sufficiently fine-grained. For example, we know that some neighborhoods are trendier than others.  Use the latitude and longitude of a venue as features that help you understand neighborhood dynamics.\n",
    "\n",
    "Instead of writing a custom estimator, we'll use one of the built-in estimators in Scikit Learn.  Since these estimators won't know what to do with a list of dictionaries, we'll build a `ColumnSelectTransformer` that will return an array containing selected keys of our feature matrix.  While it is tempting to hard-code the latitude and longitude in here, this transformer will be more useful in the future if we write it to work on an arbitrary list of columns."
   ]
  },
  {
   "cell_type": "code",
   "execution_count": 10,
   "metadata": {},
   "outputs": [],
   "source": [
    "from sklearn import base\n",
    "\n",
    "class ColumnSelectTransformer(base.BaseEstimator, base.TransformerMixin):\n",
    "\n",
    "    def __init__(self, col_names):\n",
    "        self.col_names = col_names\n",
    "\n",
    "    def fit(self, X, y=None):\n",
    "        # This transformer doesn't need to learn anything about the data,\n",
    "        # so it can just return self without any further processing\n",
    "        return self\n",
    "\n",
    "    def transform(self, X):\n",
    "        self.X = X\n",
    "        self.tx_undata = [] #not formatted so UNformatted DATA\n",
    "        for i in self.col_names:\n",
    "            self.tx_undata.append([row[i] for row in self.X])\n",
    "\n",
    "        self.len_col = len(self.tx_undata)\n",
    "\n",
    "        self.tx_data = []\n",
    "        for i in self.tx_undata[0]:\n",
    "            self.tx_data.append([i])\n",
    "        for i in range(1, len(self.col_names)):\n",
    "            for j in range(len(self.tx_data)):\n",
    "                self.tx_data[j].append(self.tx_undata[i][j])\n",
    "\n",
    "        # Return an array with the same number of rows as X and one\n",
    "        # column for each in self.col_names\n",
    "        return self.tx_data\n",
    "\n",
    "\n",
    "#Original prompt\n",
    "# class ColumnSelectTransformer(base.BaseEstimator, base.TransformerMixin):\n",
    "    \n",
    "#     def __init__(self, col_names):\n",
    "#         self.col_names = col_names  # We will need these in transform()\n",
    "    \n",
    "#     def fit(self, X, y=None):\n",
    "#         # This transformer doesn't need to learn anything about the data,\n",
    "#         # so it can just return self without any further processing\n",
    "#         return self\n",
    "    \n",
    "#     def transform(self, X):\n",
    "#         # Return an array with the same number of rows as X and one\n",
    "#         # column for each in self.col_names"
   ]
  },
  {
   "cell_type": "markdown",
   "metadata": {},
   "source": [
    "Let's test it on a single row, just as a sanity check:"
   ]
  },
  {
   "cell_type": "code",
   "execution_count": 11,
   "metadata": {},
   "outputs": [],
   "source": [
    "cst = ColumnSelectTransformer(['latitude', 'longitude'])\n",
    "assert (cst.fit_transform(data[:1])\n",
    "        == [[data[0]['latitude'], data[0]['longitude']]])"
   ]
  },
  {
   "cell_type": "markdown",
   "metadata": {},
   "source": [
    "Now, let's feed the output of the transformer in to a `sklearn.neighbors.KNeighborsRegressor`.  As a sanity check, we'll test it with the first 5 rows.  To truly judge the performance, we'd need to make a test/train split."
   ]
  },
  {
   "cell_type": "code",
   "execution_count": 12,
   "metadata": {},
   "outputs": [
    {
     "data": {
      "text/plain": [
       "array([4. , 4.2, 4. , 3.8, 4.2])"
      ]
     },
     "execution_count": 12,
     "metadata": {},
     "output_type": "execute_result"
    }
   ],
   "source": [
    "from sklearn.neighbors import KNeighborsRegressor\n",
    "\n",
    "data_transform = cst.fit_transform(data)\n",
    "#data_transform = cst.transform(data)\n",
    "knn = KNeighborsRegressor(n_neighbors=5)\n",
    "knn.fit(data_transform, star_ratings)\n",
    "test_data = data[:5]\n",
    "test_data_transform = cst.transform(test_data)\n",
    "knn.predict(test_data_transform)"
   ]
  },
  {
   "cell_type": "markdown",
   "metadata": {},
   "source": [
    "Instead of doing this by hand, let's make a pipeline.  Remember that a pipeline is made with a list of (name, transformer-or-estimator) tuples. "
   ]
  },
  {
   "cell_type": "code",
   "execution_count": 13,
   "metadata": {},
   "outputs": [],
   "source": [
    "from sklearn.pipeline import Pipeline\n",
    "\n",
    "col_in = ['latitude', 'longitude']\n",
    "\n",
    "pipe = Pipeline([('column tx', ColumnSelectTransformer(col_in)),\n",
    "                 ('k near', KNeighborsRegressor(n_neighbors=30))])\n",
    "\n",
    "# pipe = Pipeline([\n",
    "#         # ColumnSelectTransformer\n",
    "#         # KNeighborsRegressor\n",
    "#     ])"
   ]
  },
  {
   "cell_type": "markdown",
   "metadata": {},
   "source": [
    "This should work the same way."
   ]
  },
  {
   "cell_type": "code",
   "execution_count": 14,
   "metadata": {},
   "outputs": [
    {
     "data": {
      "text/plain": [
       "array([3.98333333, 3.81666667, 3.78333333, 3.6       , 3.83333333])"
      ]
     },
     "execution_count": 14,
     "metadata": {},
     "output_type": "execute_result"
    }
   ],
   "source": [
    "pipe.fit(data, star_ratings)\n",
    "pipe.predict(test_data)"
   ]
  },
  {
   "cell_type": "markdown",
   "metadata": {},
   "source": [
    "The `KNeighborsRegressor` takes the `n_neighbors` hyperparameter, which tells it how many nearest neighbors to average together when making a prediction.  There is no reason to believe that 5 is the optimum value.  Determine a better value of this hyperparameter.   There are several ways to do this:\n",
    "\n",
    "1. Use [`train_test_split`](http://scikit-learn.org/stable/modules/generated/sklearn.model_selection.train_test_split.html#sklearn.model_selection.train_test_split) to split your data in to a training set and a test set.  Score the performance on the test set.  After finding the best hyperparameter, retrain the model on the full data at that hyperparameter value.\n",
    "\n",
    "2. Use [`cross_val_score`](http://scikit-learn.org/stable/modules/generated/sklearn.model_selection.cross_val_score.html#sklearn.model_selection.cross_val_score) to return cross-validation scores on your data for various values of the hyperparameter.  Choose the best one, and retrain the model on the full data.\n",
    "\n",
    "3. Use [`GridSearchCV`](http://scikit-learn.org/stable/modules/generated/sklearn.model_selection.GridSearchCV.html#sklearn.model_selection.GridSearchCV) to do the splitting, training, and grading automatically.  `GridSearchCV` takes an estimator and acts as an estimator.  You can either give it the `KNeighborsRegressor` directly and put it in a pipeline, or you can pass the whole pipeline into the `GridSearchCV`.  In the latter case, remember that the hyperparameter `param` of an estimator named `est` in a pipeline becomes a hyperparameter of the pipeline with name `est__param`.\n",
    "\n",
    "No matter which you choose, you should consider whether the data need to be shuffled.  The default k-folds split doesn't shuffle.  This is fine, if the data are already random.  The code below will plot a rolling mean of the star ratings.  Do you need to shuffle the data?"
   ]
  },
  {
   "cell_type": "code",
   "execution_count": 15,
   "metadata": {},
   "outputs": [
    {
     "data": {
      "text/plain": [
       "[<matplotlib.lines.Line2D at 0x7f5420f55320>]"
      ]
     },
     "execution_count": 15,
     "metadata": {},
     "output_type": "execute_result"
    },
    {
     "data": {
      "image/png": "[encoded data removed]",
      "text/plain": [
       "<Figure size 432x288 with 1 Axes>"
      ]
     },
     "metadata": {},
     "output_type": "display_data"
    }
   ],
   "source": [
    "from pandas import Series\n",
    "import matplotlib.pyplot as plt\n",
    "\n",
    "plt.plot(Series.rolling(Series(star_ratings), window=1000).mean())"
   ]
  },
  {
   "cell_type": "markdown",
   "metadata": {},
   "source": [
    "Once you've found a good value of `n_neighbors`, submit the model to the grader.  (*N.B.* \"Good\" is a relative measure here.  The reference solution has a r-squared value of only 0.02.  There is just rather little signal available for modeling.)"
   ]
  },
  {
   "cell_type": "code",
   "execution_count": null,
   "metadata": {},
   "outputs": [],
   "source": []
  },
  {
   "cell_type": "code",
   "execution_count": 79,
   "metadata": {},
   "outputs": [
    {
     "name": "stdout",
     "output_type": "stream",
     "text": [
      "==================\n",
      "Your score:  1.048729624386634\n",
      "==================\n"
     ]
    }
   ],
   "source": [
    "#grader.score('ml__lat_long_model', lat_long_est.predict)  # Edit to appropriate name\n",
    "grader.score('ml__lat_long_model', pipe.predict)  # Edit to appropriate name\n"
   ]
  },
  {
   "cell_type": "markdown",
   "metadata": {},
   "source": [
    "*Item for thought:* Why do we choose a non-linear model for this estimator?\n",
    "\n",
    "*Extension:* Use a `sklearn.ensemble.RandomForestRegressor`, which is a more powerful non-linear model.  Can you get better performance with this than with the `KNeighborsRegressor`?"
   ]
  },
  {
   "cell_type": "markdown",
   "metadata": {},
   "source": [
    "## category_model"
   ]
  },
  {
   "cell_type": "markdown",
   "metadata": {},
   "source": [
    "While location is important, we could also try seeing how predictive the\n",
    "venue's category is.  Build an estimator that considers only the categories.\n",
    "\n",
    "The categories come as a list of strings, but the built-in estimators all need numeric input.  The standard way to deal with categorical features is **one-hot encoding**, also known as dummy variables.  In this approach, each category gets its own column in the feature matrix.  If the row has a given category, that column gets filled with a 1.  Otherwise, it is 0.\n",
    "\n",
    "The `ColumnSelectTransformer` from the previous question can be used to extract the categories column as a list of strings.  Scikit Learn provides [`DictVectorizer`](http://scikit-learn.org/stable/modules/generated/sklearn.feature_extraction.DictVectorizer.html#sklearn.feature_extraction.DictVectorizer), which takes in a list of dictionaries.  It creates a column in the output matrix for each key in the dictionary and fills it with the value associated with it.  Missing keys are filled with zeros.  Therefore, we need only build a transformer that takes a list of strings to a dictionary with keys given by those strings and values of one."
   ]
  },
  {
   "cell_type": "code",
   "execution_count": 18,
   "metadata": {},
   "outputs": [],
   "source": [
    "class DictEncoder(base.BaseEstimator, base.TransformerMixin):\n",
    "\n",
    "    def fit(self, X, y=None):\n",
    "        return self\n",
    "\n",
    "    def transform(self, X):\n",
    "        self.ct_nm = X\n",
    "        self.ct_dt = []\n",
    "        for i in self.ct_nm:\n",
    "            for j in i:\n",
    "                self.ct_dt.append({})\n",
    "                for k in j:\n",
    "                    self.ct_dt[-1][k] = 1\n",
    "\n",
    "        return self.ct_dt\n",
    "\n",
    "\n",
    "    # X will come in as a list of lists of lists.  Return a list of\n",
    "    # dictionaries corresponding to those inner lists.\n",
    "\n",
    "\n",
    "# class DictEncoder(base.BaseEstimator, base.TransformerMixin):\n",
    "    \n",
    "#     def fit(self, X, y=None):\n",
    "#         return self\n",
    "    \n",
    "#     def transform(self, X):\n",
    "#         # X will come in as a list of lists of lists.  Return a list of\n",
    "#         # dictionaries corresponding to those inner lists."
   ]
  },
  {
   "cell_type": "markdown",
   "metadata": {},
   "source": [
    "That should allow this to pass:"
   ]
  },
  {
   "cell_type": "code",
   "execution_count": 19,
   "metadata": {},
   "outputs": [],
   "source": [
    "assert (DictEncoder().fit_transform([[['a']], [['b', 'c']]])\n",
    "        == [{'a': 1}, {'b': 1, 'c': 1}])"
   ]
  },
  {
   "cell_type": "markdown",
   "metadata": {},
   "source": [
    "Set up a pipeline with your `ColumnSelectTransformer`, your `DictEncoder`, the `DictVectorizer`, and a regularized linear model, like `Ridge`, as the estimator.  This model will have a large number of features, one for each category, so there is a significant danger of overfitting.  Use cross validation to choose the best regularization parameter."
   ]
  },
  {
   "cell_type": "code",
   "execution_count": 20,
   "metadata": {},
   "outputs": [
    {
     "data": {
      "text/plain": [
       "Pipeline(memory=None,\n",
       "         steps=[('column tx',\n",
       "                 ColumnSelectTransformer(col_names=['categories'])),\n",
       "                ('dict fixer', DictEncoder()),\n",
       "                ('dict vector',\n",
       "                 DictVectorizer(dtype=<class 'numpy.float64'>, separator='=',\n",
       "                                sort=True, sparse=True)),\n",
       "                ('ridge model',\n",
       "                 Ridge(alpha=1, copy_X=True, fit_intercept=True, max_iter=None,\n",
       "                       normalize=False, random_state=None, solver='auto',\n",
       "                       tol=0.001))],\n",
       "         verbose=False)"
      ]
     },
     "execution_count": 20,
     "metadata": {},
     "output_type": "execute_result"
    }
   ],
   "source": [
    "from sklearn.feature_extraction import DictVectorizer\n",
    "from sklearn.linear_model import Ridge\n",
    "from sklearn.pipeline import Pipeline\n",
    "\n",
    "col_in = ['categories']\n",
    "pipe2 = Pipeline([('column tx', ColumnSelectTransformer(col_in)),\n",
    "                  ('dict fixer', DictEncoder()),\n",
    "                  ('dict vector', DictVectorizer()),\n",
    "                 ('ridge model', Ridge(alpha=1))])\n",
    "\n",
    "pipe2.fit(data, star_ratings)"
   ]
  },
  {
   "cell_type": "code",
   "execution_count": 21,
   "metadata": {},
   "outputs": [
    {
     "name": "stdout",
     "output_type": "stream",
     "text": [
      "==================\n",
      "Your score:  0.9653372573746091\n",
      "==================\n"
     ]
    }
   ],
   "source": [
    "#grader.score('ml__category_model', category_est.predict)  # Edit to appropriate name\n",
    "grader.score('ml__category_model', pipe2.predict)  # Edit to appropriate name\n"
   ]
  },
  {
   "cell_type": "markdown",
   "metadata": {},
   "source": [
    "*Extension:* Some categories (e.g. Restaurants) are not very specific.  Others (Japanese sushi) are much more so.  One way to deal with this is with an measure call term-frequency-inverse-document-frequency (TF-IDF).  Add in a `sklearn.feature_extraction.text.TfidfTransformer` between the `DictVectorizer` and the linear model, and see if that improves performance.\n",
    "\n",
    "*Extension:* Can you beat the performance of the linear estimator with a\n",
    "non-linear model?"
   ]
  },
  {
   "cell_type": "markdown",
   "metadata": {},
   "source": [
    "## attribute_model"
   ]
  },
  {
   "cell_type": "markdown",
   "metadata": {},
   "source": [
    "There is even more information in the attributes for each venue.  Let's build an estimator based on these.\n",
    "\n",
    "Venues attributes may be nested:\n",
    "```\n",
    "{\n",
    "  'Attire': 'casual',\n",
    "  'Accepts Credit Cards': True,\n",
    "  'Ambiance': {'casual': False, 'classy': False}\n",
    "}\n",
    "```\n",
    "We wish to encode them with one-hot encoding.  The `DictVectorizer` can do this, but only once we've flattened the dictionary to a single level, like so:\n",
    "```\n",
    "{\n",
    "  'Attire_casual' : 1,\n",
    "  'Accepts Credit Cards': 1,\n",
    "  'Ambiance_casual': 0,\n",
    "  'Ambiance_classy': 0\n",
    "}\n",
    "```\n",
    "\n",
    "Build a custom transformer that flattens the attributes dictionary.  Place this in a pipeline with a `DictVectorizer` and a regressor.\n",
    "\n",
    "You may find it difficult to find a single regressor that does well enough.  A common solution is to use a linear model to fit the linear part of some data, and use a non-linear model to fit the residual that the linear model can't fit.  Build a residual estimator that takes as an argument two other estimators.  It should use the first to fit the raw data and the second to fit the residuals of the first."
   ]
  },
  {
   "cell_type": "code",
   "execution_count": 28,
   "metadata": {},
   "outputs": [],
   "source": [
    "class DictAttEncoder(base.BaseEstimator, base.TransformerMixin):\n",
    "\n",
    "    def fit(self, X, y=None):\n",
    "        return self\n",
    "\n",
    "    def transform(self, X):\n",
    "        self.at_lt = X   # attribute list\n",
    "        self.at_dt = []  # attribute flat dictionary\n",
    "        for i in self.at_lt:\n",
    "            for j in i:\n",
    "                self.at_dt.append({})\n",
    "                for k, l in j.items():\n",
    "                    if not type(l) is dict:\n",
    "                        if l == False:\n",
    "                            self.at_dt[-1][k] = 0\n",
    "                        elif l == True:\n",
    "                            self.at_dt[-1][k] = 1\n",
    "                        else:\n",
    "                            self.at_dt[-1]['{}_{}'.format(k, l)] = 1\n",
    "                    if type(l) is dict:\n",
    "                        for m, n in l.items():\n",
    "                            if n == False:\n",
    "                                self.at_dt[-1]['{}_{}'.format(k, m)] = 0\n",
    "                            elif n == True:\n",
    "                                self.at_dt[-1]['{}_{}'.format(k, m)] = 1\n",
    "\n",
    "        return self.at_dt"
   ]
  },
  {
   "cell_type": "code",
   "execution_count": 41,
   "metadata": {},
   "outputs": [
    {
     "name": "stdout",
     "output_type": "stream",
     "text": [
      "{'alpha': 1.5}\n"
     ]
    }
   ],
   "source": [
    "from sklearn.ensemble import RandomForestRegressor\n",
    "from sklearn import model_selection\n",
    "\n",
    "est = Ridge()\n",
    "gs = model_selection.GridSearchCV(\n",
    "    est, {\"alpha\": [0.7, 0.8, 0.9, 1.0, 1.1, 1.2, 1.3, 1.4, 1.5]},\n",
    "    cv=5,  # 5-fold cross validation\n",
    "    n_jobs=2,  # run each hyperparameter in one of two parallel jobs\n",
    ")\n",
    "\n",
    "\n",
    "# est = RandomForestRegressor()\n",
    "# gs = model_selection.GridSearchCV(\n",
    "#     est, {\"n_estimators\": [20, 40, 60, 80, 100, 120, 140, 160]},\n",
    "#     cv=5,  # 5-fold cross validation\n",
    "#     n_jobs=2,  # run each hyperparameter in one of two parallel jobs\n",
    "# )\n",
    "\n",
    "\n",
    "class DataAndResidualRegressor(base.BaseEstimator, base.TransformerMixin):\n",
    "\n",
    "#     def __init__(self):\n",
    "#         #its blank\n",
    "\n",
    "    def fit(self, X, y):\n",
    "\n",
    "        self.data = X\n",
    "        self.y_act = y\n",
    "\n",
    "        #self.data_model1 = gs\n",
    "        self.data_model1 = Ridge(alpha=.9) #my GridCV found a=2.5\n",
    "        \n",
    "        self.data_model2 = RandomForestRegressor(n_estimators=60, max_depth=6)\n",
    "        #self.data_model2 = RandomForestRegressor(n_estimators=10)\n",
    "\n",
    "        self.data_model1.fit(self.data, self.y_act)\n",
    "        self.y_est = self.data_model1.predict(self.data)\n",
    "        self.y_res = self.y_act - self.y_est\n",
    "\n",
    "        self.data_model2.fit(self.data, self.y_res)\n",
    "        self.y_res_est = self.data_model2.predict(self.data)\n",
    "\n",
    "        return self\n",
    "\n",
    "    def predict(self, X):\n",
    "\n",
    "        self.y_predict = self.data_model1.predict(X) + self.data_model2.predict(X)\n",
    "        \n",
    "        return self.y_predict\n",
    "    \n",
    "    \n",
    "col_in = ['attributes']\n",
    "\n",
    "# pipe3 = Pipeline([('column tx', ColumnSelectTransformer(col_in)),\n",
    "#                   ('dict fixer', DictAttEncoder()),\n",
    "#                   ('dict vector', DictVectorizer()),\n",
    "#                  ('forest model', gs)])\n",
    "\n",
    "\n",
    "# pipe3 = Pipeline([('column tx', ColumnSelectTransformer(col_in)),\n",
    "#                   ('dict fixer', DictAttEncoder()),\n",
    "#                   ('dict vector', DictVectorizer()),\n",
    "#                  ('forest model', RandomForestRegressor(n_estimators=100))])\n",
    "\n",
    "\n",
    "pipe3 = Pipeline([('column tx', ColumnSelectTransformer(col_in)),\n",
    "                  ('dict fixer', DictAttEncoder()),\n",
    "                  ('dict vector', DictVectorizer()),\n",
    "                 ('data res model', DataAndResidualRegressor())])\n",
    "\n",
    "\n",
    "\n",
    "pipe3.fit(data,star_ratings)\n",
    "print (gs.best_params_)"
   ]
  },
  {
   "cell_type": "code",
   "execution_count": 30,
   "metadata": {},
   "outputs": [
    {
     "data": {
      "text/plain": [
       "5"
      ]
     },
     "execution_count": 30,
     "metadata": {},
     "output_type": "execute_result"
    }
   ],
   "source": [
    "len(pipe3.predict(data[:5]))"
   ]
  },
  {
   "cell_type": "code",
   "execution_count": 42,
   "metadata": {},
   "outputs": [
    {
     "name": "stdout",
     "output_type": "stream",
     "text": [
      "==================\n",
      "Your score:  0.9003222903168462\n",
      "==================\n"
     ]
    }
   ],
   "source": [
    "#grader.score('ml__attribute_model', attribute_est.predict)  # Edit to appropriate name\n",
    "grader.score('ml__attribute_model', pipe3.predict)  # Edit to appropriate name"
   ]
  },
  {
   "cell_type": "markdown",
   "metadata": {},
   "source": [
    "\n",
    "## full_model"
   ]
  },
  {
   "cell_type": "markdown",
   "metadata": {},
   "source": [
    "So far we have only built models based on individual features.  Now we will build an ensemble regressor that averages together the estimates of the four previous regressors.\n",
    "\n",
    "In order to use the existing models as input to an estimator, we will have to turn them into transformers.  (A pipeline can contain at most a single estimator.)  Build a custom `ModelTransformer` class that takes an estimator as an argument.  When `fit()` is called, the estimator should be fit.  When `transform()` is called, the estimator's `predict()` method should be called, and its results returned.\n",
    "\n",
    "Note that the output of the `transform()` method should be a 2-D array with a single column, in order for it to work well with the Scikit Learn pipeline.  If you're using NumPy arrays, you can use `.reshape(-1, 1)` to create a column vector.  If you are just using Python lists, you will want a list of lists of single elements."
   ]
  },
  {
   "cell_type": "code",
   "execution_count": 32,
   "metadata": {},
   "outputs": [],
   "source": [
    "class EstimatorTransformer(base.BaseEstimator, base.TransformerMixin):\n",
    "\n",
    "    def __init__(self, estimator):\n",
    "        self.estimator = estimator\n",
    "        #return self\n",
    "\n",
    "    # What needs to be done here?\n",
    "\n",
    "    def fit(self, X, y):\n",
    "        self.estimator.fit(X,y)\n",
    "        return self\n",
    "\n",
    "    # Fit the stored estimator.\n",
    "    # Question: what should be returned?\n",
    "\n",
    "    def transform(self, X):\n",
    "        self.y_est = self.estimator.predict(X)\n",
    "        self.y_out = [[i] for i in self.y_est]\n",
    "\n",
    "        return self.y_out\n",
    "    \n",
    "\n",
    "# class EstimatorTransformer(base.BaseEstimator, base.TransformerMixin):\n",
    "    \n",
    "#     def __init__(self, estimator):\n",
    "#         # What needs to be done here?\n",
    "    \n",
    "#     def fit(self, X, y):\n",
    "#         # Fit the stored estimator.\n",
    "#         # Question: what should be returned?\n",
    "    \n",
    "#     def transform(self, X):\n",
    "#         # Use predict on the stored estimator as a \"transformation\".\n",
    "#         # Be sure to return a 2-D array."
   ]
  },
  {
   "cell_type": "markdown",
   "metadata": {},
   "source": [
    "This should work as follows:"
   ]
  },
  {
   "cell_type": "code",
   "execution_count": 33,
   "metadata": {},
   "outputs": [],
   "source": [
    "city_trans = EstimatorTransformer(city_est)\n",
    "city_trans.fit(data, star_ratings)\n",
    "assert ([r[0] for r in city_trans.transform(data[:5])]\n",
    "        == city_est.predict(data[:5]))"
   ]
  },
  {
   "cell_type": "markdown",
   "metadata": {},
   "source": [
    "Create an instance of `ModelTransformer` for each of the previous four models. Combine these together in a single feature matrix with a\n",
    "[`FeatureUnion`](http://scikit-learn.org/stable/modules/generated/sklearn.pipeline.FeatureUnion.html#sklearn.pipeline.FeatureUnion)."
   ]
  },
  {
   "cell_type": "code",
   "execution_count": 34,
   "metadata": {},
   "outputs": [],
   "source": [
    "from sklearn.pipeline import FeatureUnion\n",
    "\n",
    "\n",
    "city_trans = EstimatorTransformer(city_est)\n",
    "\n",
    "latlong_trans = EstimatorTransformer(pipe)\n",
    "cat_trans = EstimatorTransformer(pipe2)\n",
    "att_trans = EstimatorTransformer(pipe3)\n",
    "\n",
    "\n",
    "union = FeatureUnion([('city est', city_trans),\n",
    "                      ('lat long', latlong_trans),\n",
    "                      ('cat mod', cat_trans),\n",
    "                      ('att mod', att_trans)])\n",
    "\n",
    "\n",
    "# union = FeatureUnion([('city est', city_trans),\n",
    "#                       ('lat long', pipe),\n",
    "#                       ('cat mod', pipe2),\n",
    "#                       ('att mod', pipe3)])\n",
    "\n",
    "\n",
    "# from sklearn.pipeline import FeatureUnion\n",
    "\n",
    "# union = FeatureUnion([\n",
    "#         # FeatureUnions use the same syntax as Pipelines\n",
    "#     ])"
   ]
  },
  {
   "cell_type": "markdown",
   "metadata": {},
   "source": [
    "This should return a feature matrix with four columns."
   ]
  },
  {
   "cell_type": "code",
   "execution_count": 150,
   "metadata": {},
   "outputs": [],
   "source": [
    "union.fit(data, star_ratings)\n",
    "trans_data = union.transform(data[:10])\n",
    "assert trans_data.shape == (10, 4)"
   ]
  },
  {
   "cell_type": "markdown",
   "metadata": {},
   "source": [
    "Finally, use a pipeline to combine the feature union with a linear regression (or another model) to weight the predictions."
   ]
  },
  {
   "cell_type": "code",
   "execution_count": 43,
   "metadata": {},
   "outputs": [
    {
     "data": {
      "text/plain": [
       "Pipeline(memory=None,\n",
       "         steps=[('columns all',\n",
       "                 FeatureUnion(n_jobs=None,\n",
       "                              transformer_list=[('city est',\n",
       "                                                 EstimatorTransformer(estimator=CityEstimator())),\n",
       "                                                ('lat long',\n",
       "                                                 EstimatorTransformer(estimator=Pipeline(memory=None,\n",
       "                                                                                         steps=[('column '\n",
       "                                                                                                 'tx',\n",
       "                                                                                                 ColumnSelectTransformer(col_names=['latitude',\n",
       "                                                                                                                                    'longitude'])),\n",
       "                                                                                                ('k '\n",
       "                                                                                                 'near',\n",
       "                                                                                                 KNeighborsRegressor(algorithm='auto',\n",
       "                                                                                                                     leaf_size=30...\n",
       "                                                                                                 ColumnSelectTransformer(col_names=['attributes'])),\n",
       "                                                                                                ('dict '\n",
       "                                                                                                 'fixer',\n",
       "                                                                                                 DictAttEncoder()),\n",
       "                                                                                                ('dict '\n",
       "                                                                                                 'vector',\n",
       "                                                                                                 DictVectorizer(dtype=<class 'numpy.float64'>,\n",
       "                                                                                                                separator='=',\n",
       "                                                                                                                sort=True,\n",
       "                                                                                                                sparse=True)),\n",
       "                                                                                                ('data '\n",
       "                                                                                                 'res '\n",
       "                                                                                                 'model',\n",
       "                                                                                                 DataAndResidualRegressor())],\n",
       "                                                                                         verbose=False)))],\n",
       "                              transformer_weights=None, verbose=False)),\n",
       "                ('lin model',\n",
       "                 LinearRegression(copy_X=True, fit_intercept=True, n_jobs=None,\n",
       "                                  normalize=False))],\n",
       "         verbose=False)"
      ]
     },
     "execution_count": 43,
     "metadata": {},
     "output_type": "execute_result"
    }
   ],
   "source": [
    "from sklearn.linear_model import LinearRegression\n",
    "\n",
    "lr_model = LinearRegression()\n",
    "#lr_model = RandomForestRegressor(n_estimators=20)\n",
    "\n",
    "pipe4 = Pipeline([('columns all', union),\n",
    "                 ('lin model', lr_model)])\n",
    "\n",
    "pipe4.fit(data, star_ratings)\n",
    "\n"
   ]
  },
  {
   "cell_type": "code",
   "execution_count": 44,
   "metadata": {},
   "outputs": [
    {
     "name": "stdout",
     "output_type": "stream",
     "text": [
      "==================\n",
      "Your score:  0.9434596878586908\n",
      "==================\n"
     ]
    }
   ],
   "source": [
    "#grader.score('ml__full_model', full_est.predict)  # Edit to appropriate name\n",
    "grader.score('ml__full_model', pipe4.predict)"
   ]
  },
  {
   "cell_type": "markdown",
   "metadata": {},
   "source": [
    "*Extension:* By combining our models with a linear model, we will be unable to notice any correlation between features.  We don't expect all attributes to have the same effect on all venues.  For example, \"Ambiance: divey\" might be a bad indicator for a restaurant but a good one for a bar.  Nonlinear models can pick up on this interaction.  Replace the linear model combining the predictions with a nonlinear one like [`RandomForestRegressor`](http://scikit-learn.org/stable/modules/generated/sklearn.ensemble.RandomForestRegressor.html#sklearn.ensemble.RandomForestRegressor).  Better yet, use the nonlinear model to fit the residuals of the linear model.\n",
    "\n",
    "The score for this question is just a ratio of the score of your model to the score of a reference solution.  Can you beat the reference solution and get a score greater than 1.0?"
   ]
  },
  {
   "cell_type": "markdown",
   "metadata": {},
   "source": [
    "*Copyright &copy; 2019 The Data Incubator.  All rights reserved.*"
   ]
  }
 ],
 "metadata": {
  "kernelspec": {
   "display_name": "Python 3",
   "language": "python",
   "name": "python3"
  },
  "language_info": {
   "codemirror_mode": {
    "name": "ipython",
    "version": 3
   },
   "file_extension": ".py",
   "mimetype": "text/x-python",
   "name": "python",
   "nbconvert_exporter": "python",
   "pygments_lexer": "ipython3",
   "version": "3.6.2"
  },
  "nbclean": true
 },
 "nbformat": 4,
 "nbformat_minor": 1
}
